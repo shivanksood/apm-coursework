{
 "cells": [
  {
   "cell_type": "markdown",
   "metadata": {},
   "source": [
    "\n",
    "# <p style=\"text-align: center;\">MIS 382N: ADVANCED PREDICTIVE MODELING - MSBA</p>\n",
    "# <p style=\"text-align: center;\">Assignment 1</p>\n",
    "## <p style=\"text-align: center;\">Total points: 100</p>\n",
    "## <p style=\"text-align: center;\">Due: Tuesday, September 17 submitted via Canvas by 11:59 pm</p>\n",
    "\n",
    "Your homework should be written in a **Jupyter notebook**. You may work in groups of two if you wish. Your partner needs to be from the same section. Only one student per team needs to submit the assignment on Canvas.  But be sure to include name and UTEID for both students.  Homework groups will be created and managed through Canvas, so please do not arbitrarily change your homework group. If you do change, let the TA know. \n",
    "\n",
    "Also, please make sure your code runs and the graphics (and anything else) are displayed in your notebook before submitting. (%matplotlib inline)"
   ]
  },
  {
   "cell_type": "markdown",
   "metadata": {},
   "source": [
    "# Question 1: Challenges in Data Science (10 pts)\n",
    "\n",
    "Refer to the Domino guide under Modules --> Additional Resources\n",
    "\n",
    "Section 2 describes 8 Challenges. You may have personally encountered or heard of somebody else who encountered some of these challenge. If so,  please write 1-2 paragraphs on what situation was encountered and how it mapped into one the mentioned challenges. If not, think of a hypothetical case and do the same exercise. \n",
    "\n",
    "\n",
    "## Answer\n",
    "\n",
    "\n"
   ]
  },
  {
   "cell_type": "markdown",
   "metadata": {},
   "source": [
    "# Question 2: MLE Estimate (5+10+10 points)\n",
    "\n",
    "Consider a coin tossing experiment where a biased coin is tossed repeatedly for $n$ times with independence in successive tosses. \n",
    "If we record the outcome of each toss as $X_{i}$, for $i \\in \\{1,2,3,....,n\\}$ as follows\n",
    "\n",
    "$  \n",
    "X_{i} = \n",
    "     \\begin{cases}\n",
    "       \\text{1,} &\\quad\\text{if $i^{th}$ toss results in $Heads$,}\\\\\n",
    "       \\text{0,} &\\quad\\text{otherwise.} \\\\ \n",
    "     \\end{cases}\n",
    "$\n",
    "\n",
    "then $X_{1}, X_{2}, .... X_{n}$ will be a sequence of $0$'s and $1$'s. Assume that for this coin $P(Heads) = p$, which of course is not known to the experimenter. \n",
    "\n",
    "1. The log-likelihood function of the observations, as discussed in the class, denotes the probability of occurrence of the observations. Write the log-likelihood function for the set of observations $X_{1}, X_{2}, .... X_{n}$. \n",
    "\n",
    "2. Compute an MLE estimate of $p$.\n",
    "\n",
    "3. Check if the obtained estimate is unbiased.\n"
   ]
  },
  {
   "cell_type": "markdown",
   "metadata": {},
   "source": [
    "## Answer\n",
    "\n"
   ]
  },
  {
   "cell_type": "markdown",
   "metadata": {},
   "source": [
    "# Question 3: Multiple Linear Regression in Python (30 pts)\n",
    "\n",
    "Use the following code to import the California housing prices dataset and linear models in python. The dataset is taken from https://www.kaggle.com/camnugent/california-housing-prices/version/1. I have removed the categorical variables and rows with missing variables to make it easier to run the models. \n"
   ]
  },
  {
   "cell_type": "code",
<<<<<<< HEAD
   "execution_count": 1,
=======

  

   "execution_count": 46,
>>>>>>> f5caf9a373bd32a4fd02020a7d75a03424f9a5f0
   "metadata": {},
   "outputs": [],
   "source": [
    "%matplotlib inline\n",
    "from sklearn import linear_model\n",
    "from sklearn.metrics import mean_absolute_error\n",
    "import numpy as np\n",
    "import pandas as pd\n",
    "pd.options.mode.chained_assignment = None\n",
    "\n",
    "\n",
    "train_df = pd.read_csv(\"reduced_data.csv\")\n",
    "X = train_df.drop(['median_house_value'],axis=1)\n",
    "Y = train_df['median_house_value']"
   ]
<<<<<<< HEAD
=======

>>>>>>> f5caf9a373bd32a4fd02020a7d75a03424f9a5f0
  },
  {
   "cell_type": "markdown",
   "metadata": {},
   "source": [
    "a. (2 pts) Print the shape (number of rows and columns) of the feature matrix X, and print the first 5 rows.\n",
    "\n",
    "b.  (6 pts) Using ordinary least squares, fit a multiple linear regression (MLR) on all the feature variables using the entire dataset. Report the regression coefficient of each input feature and evaluate the model using mean absolute error (MAE).  Example of ordinary least squares in Python is shown in Section 1.1.1 of http://scikit-learn.org/stable/modules/linear_model.html.\n",
    "\n",
    "c.  (6 pts) Split the data into a training set and a test set, using the [train_test_split](https://scikit-learn.org/stable/modules/generated/sklearn.model_selection.train_test_split.html) with test_size = 0.30 and random_state = 11. Fit an MLR using the training set.  Evaluate the trained model using the training set and the test set, respectively.  Compare the two MAE values thus obtained.\n",
    "\n",
    "d.  (5 pts) Calculate the pearson correlation matrix of the independent variables in the training set (you can use [this](https://pandas.pydata.org/pandas-docs/stable/reference/api/pandas.DataFrame.corr.html)). Report the variables which have magnitude of correlation greater than 0.9 w.r.t the variable 'households'. \n",
    "\n",
    "e.  (6 pts) Add the following independent variables to both train and test sets:\n",
    "1. average_bedrooms = total_bedrooms/households\n",
    "2. average_rooms = total_rooms/households\n",
    "3. average_population = total_rooms/households\n",
    "\n",
    "Recalculate the correlation matrix. What do you observe about the correlation values of the above new variables?\n",
    "\n",
    "f. (5 pts) Fit an MLR on the new train data (with additional independent variables) and report the MAE on the new train and test sets."
   ]
  },
  {
   "cell_type": "markdown",
   "metadata": {},
   "source": [
    "## Answer"
   ]
  },
  {
   "cell_type": "markdown",
   "metadata": {},
   "source": [
    "## (a)"
   ]
  },
  {
   "cell_type": "code",
<<<<<<< HEAD
=======

>>>>>>> f5caf9a373bd32a4fd02020a7d75a03424f9a5f0
   "execution_count": 2,
   "metadata": {},
   "outputs": [
    {
     "data": {
      "text/plain": [
       "(20433, 8)"
      ]
     },
     "execution_count": 2,
     "metadata": {},
     "output_type": "execute_result"
    }
   ],
   "source": [
    "X.shape"
   ]
  },
  {
   "cell_type": "code",
   "execution_count": 3,
   "metadata": {},
   "outputs": [
    {
     "data": {
      "text/html": [
       "<div>\n",
       "<style scoped>\n",
       "    .dataframe tbody tr th:only-of-type {\n",
       "        vertical-align: middle;\n",
       "    }\n",
       "\n",
       "    .dataframe tbody tr th {\n",
       "        vertical-align: top;\n",
       "    }\n",
       "\n",
       "    .dataframe thead th {\n",
       "        text-align: right;\n",
       "    }\n",
       "</style>\n",
       "<table border=\"1\" class=\"dataframe\">\n",
       "  <thead>\n",
       "    <tr style=\"text-align: right;\">\n",
       "      <th></th>\n",
       "      <th>longitude</th>\n",
       "      <th>latitude</th>\n",
       "      <th>housing_median_age</th>\n",
       "      <th>total_rooms</th>\n",
       "      <th>total_bedrooms</th>\n",
       "      <th>population</th>\n",
       "      <th>households</th>\n",
       "      <th>median_income</th>\n",
       "    </tr>\n",
       "  </thead>\n",
       "  <tbody>\n",
       "    <tr>\n",
       "      <th>0</th>\n",
       "      <td>-122.23</td>\n",
       "      <td>37.88</td>\n",
       "      <td>41.0</td>\n",
       "      <td>880.0</td>\n",
       "      <td>129.0</td>\n",
       "      <td>322.0</td>\n",
       "      <td>126.0</td>\n",
       "      <td>8.3252</td>\n",
       "    </tr>\n",
       "    <tr>\n",
       "      <th>1</th>\n",
       "      <td>-122.22</td>\n",
       "      <td>37.86</td>\n",
       "      <td>21.0</td>\n",
       "      <td>7099.0</td>\n",
       "      <td>1106.0</td>\n",
       "      <td>2401.0</td>\n",
       "      <td>1138.0</td>\n",
       "      <td>8.3014</td>\n",
       "    </tr>\n",
       "    <tr>\n",
       "      <th>2</th>\n",
       "      <td>-122.24</td>\n",
       "      <td>37.85</td>\n",
       "      <td>52.0</td>\n",
       "      <td>1467.0</td>\n",
       "      <td>190.0</td>\n",
       "      <td>496.0</td>\n",
       "      <td>177.0</td>\n",
       "      <td>7.2574</td>\n",
       "    </tr>\n",
       "    <tr>\n",
       "      <th>3</th>\n",
       "      <td>-122.25</td>\n",
       "      <td>37.85</td>\n",
       "      <td>52.0</td>\n",
       "      <td>1274.0</td>\n",
       "      <td>235.0</td>\n",
       "      <td>558.0</td>\n",
       "      <td>219.0</td>\n",
       "      <td>5.6431</td>\n",
       "    </tr>\n",
       "    <tr>\n",
       "      <th>4</th>\n",
       "      <td>-122.25</td>\n",
       "      <td>37.85</td>\n",
       "      <td>52.0</td>\n",
       "      <td>1627.0</td>\n",
       "      <td>280.0</td>\n",
       "      <td>565.0</td>\n",
       "      <td>259.0</td>\n",
       "      <td>3.8462</td>\n",
       "    </tr>\n",
       "  </tbody>\n",
       "</table>\n",
       "</div>"
      ],
      "text/plain": [
       "   longitude  latitude  housing_median_age  total_rooms  total_bedrooms  \\\n",
       "0    -122.23     37.88                41.0        880.0           129.0   \n",
       "1    -122.22     37.86                21.0       7099.0          1106.0   \n",
       "2    -122.24     37.85                52.0       1467.0           190.0   \n",
       "3    -122.25     37.85                52.0       1274.0           235.0   \n",
       "4    -122.25     37.85                52.0       1627.0           280.0   \n",
       "\n",
       "   population  households  median_income  \n",
       "0       322.0       126.0         8.3252  \n",
       "1      2401.0      1138.0         8.3014  \n",
       "2       496.0       177.0         7.2574  \n",
       "3       558.0       219.0         5.6431  \n",
       "4       565.0       259.0         3.8462  "
      ]
     },
     "execution_count": 3,
     "metadata": {},
     "output_type": "execute_result"
    }
   ],
   "source": [
    "X.head(5)"
   ]
<<<<<<< HEAD
=======

>>>>>>> f5caf9a373bd32a4fd02020a7d75a03424f9a5f0
  },
  {
   "cell_type": "markdown",
   "metadata": {},
   "source": [
    "## (b)"
   ]
  },
  {
   "cell_type": "code",
<<<<<<< HEAD
=======

>>>>>>> f5caf9a373bd32a4fd02020a7d75a03424f9a5f0
   "execution_count": 4,
   "metadata": {},
   "outputs": [
    {
     "data": {
      "text/html": [
       "<div>\n",
       "<style scoped>\n",
       "    .dataframe tbody tr th:only-of-type {\n",
       "        vertical-align: middle;\n",
       "    }\n",
       "\n",
       "    .dataframe tbody tr th {\n",
       "        vertical-align: top;\n",
       "    }\n",
       "\n",
       "    .dataframe thead th {\n",
       "        text-align: right;\n",
       "    }\n",
       "</style>\n",
       "<table border=\"1\" class=\"dataframe\">\n",
       "  <thead>\n",
       "    <tr style=\"text-align: right;\">\n",
       "      <th></th>\n",
       "      <th>Features</th>\n",
       "      <th>Regression_coefficients</th>\n",
       "    </tr>\n",
       "  </thead>\n",
       "  <tbody>\n",
       "    <tr>\n",
       "      <th>0</th>\n",
       "      <td>longitude</td>\n",
       "      <td>-42730.120454</td>\n",
       "    </tr>\n",
       "    <tr>\n",
       "      <th>1</th>\n",
       "      <td>latitude</td>\n",
       "      <td>-42509.736942</td>\n",
       "    </tr>\n",
       "    <tr>\n",
       "      <th>2</th>\n",
       "      <td>housing_median_age</td>\n",
       "      <td>1157.900307</td>\n",
       "    </tr>\n",
       "    <tr>\n",
       "      <th>3</th>\n",
       "      <td>total_rooms</td>\n",
       "      <td>-8.249725</td>\n",
       "    </tr>\n",
       "    <tr>\n",
       "      <th>4</th>\n",
       "      <td>total_bedrooms</td>\n",
       "      <td>113.820707</td>\n",
       "    </tr>\n",
       "    <tr>\n",
       "      <th>5</th>\n",
       "      <td>population</td>\n",
       "      <td>-38.385578</td>\n",
       "    </tr>\n",
       "    <tr>\n",
       "      <th>6</th>\n",
       "      <td>households</td>\n",
       "      <td>47.701351</td>\n",
       "    </tr>\n",
       "    <tr>\n",
       "      <th>7</th>\n",
       "      <td>median_income</td>\n",
       "      <td>40297.521715</td>\n",
       "    </tr>\n",
       "  </tbody>\n",
       "</table>\n",
       "</div>"
      ],
      "text/plain": [
       "             Features  Regression_coefficients\n",
       "0           longitude            -42730.120454\n",
       "1            latitude            -42509.736942\n",
       "2  housing_median_age              1157.900307\n",
       "3         total_rooms                -8.249725\n",
       "4      total_bedrooms               113.820707\n",
       "5          population               -38.385578\n",
       "6          households                47.701351\n",
       "7       median_income             40297.521715"
      ]
     },
     "execution_count": 4,
     "metadata": {},
     "output_type": "execute_result"
    }
   ],
   "source": [
    "reg = linear_model.LinearRegression()\n",
    "reg.fit(X,Y)\n",
    "#print('Coefficients: \\n', reg.coef_)\n",
    "pd.concat([pd.DataFrame(X.columns.values,columns = ['Features']),\\\n",
    "           pd.DataFrame(reg.coef_ ,columns = ['Regression_coefficients'])],axis =1)"
   ]
  },
  {
   "cell_type": "code",
   "execution_count": 5,
   "metadata": {},
   "outputs": [
    {
     "data": {
      "text/plain": [
       "50799.6307289529"
      ]
     },
     "execution_count": 5,
     "metadata": {},
     "output_type": "execute_result"
    }
   ],
   "source": [
    "Y_pred = reg.predict(X)\n",
    "mean_absolute_error(Y,Y_pred)"
   ]
<<<<<<< HEAD
=======

>>>>>>> f5caf9a373bd32a4fd02020a7d75a03424f9a5f0
  },
  {
   "cell_type": "markdown",
   "metadata": {},
   "source": [
    "## (c)"
   ]
  },
  {
   "cell_type": "code",
<<<<<<< HEAD
=======

>>>>>>> f5caf9a373bd32a4fd02020a7d75a03424f9a5f0
   "execution_count": 6,
   "metadata": {},
   "outputs": [
    {
     "name": "stdout",
     "output_type": "stream",
     "text": [
      "Mean Absolute Error Train  50764.105024478515\n",
      "Mean Absolute Error Test  50882.522107598445\n"
     ]
    }
   ],
   "source": [
    "from sklearn.model_selection import train_test_split\n",
    "X_train, X_test, y_train, y_test = train_test_split(X, Y, test_size=0.30, random_state=11)\n",
    "regr = linear_model.LinearRegression()\n",
    "regr.fit(X_train,y_train)\n",
    "y_pred_train = reg.predict(X_train)\n",
    "y_pred_test = reg.predict(X_test)\n",
    "print('Mean Absolute Error Train ', mean_absolute_error(y_train,y_pred_train))\n",
    "print('Mean Absolute Error Test ', mean_absolute_error(y_test,y_pred_test))\n"
   ]
<<<<<<< HEAD
=======

>>>>>>> f5caf9a373bd32a4fd02020a7d75a03424f9a5f0
  },
  {
   "cell_type": "markdown",
   "metadata": {},
   "source": [
    "The two mean absolute error obtained on the test data set is slightly higher"
   ]
  },
  {
<<<<<<< HEAD
=======

   "cell_type": "markdown",
   "metadata": {},
   "source": [
    "## (d)"
   ]
  },
  {
>>>>>>> f5caf9a373bd32a4fd02020a7d75a03424f9a5f0
   "cell_type": "code",
   "execution_count": 7,
   "metadata": {},
   "outputs": [
    {
     "data": {
      "text/plain": [
       "['total_rooms', 'total_bedrooms', 'population', 'households']"
      ]
     },
     "execution_count": 7,
     "metadata": {},
     "output_type": "execute_result"
    }
   ],
   "source": [
    "X_train.corr()[X_train.corr(method='pearson')['households'] > 0.9].index.tolist()"
   ]
<<<<<<< HEAD
=======

>>>>>>> f5caf9a373bd32a4fd02020a7d75a03424f9a5f0
  },
  {
   "cell_type": "markdown",
   "metadata": {},
   "source": [
    "Independent variables having correlation greater than 0.9 w.r.t 'households': total_rooms, total_bedrooms, population"
   ]
  },
  {
   "cell_type": "markdown",
   "metadata": {},
   "source": [
    "## (e)"
   ]
  },
  {
   "cell_type": "code",
<<<<<<< HEAD
=======

>>>>>>> f5caf9a373bd32a4fd02020a7d75a03424f9a5f0
   "execution_count": 8,
   "metadata": {},
   "outputs": [
    {
     "data": {
      "text/html": [
       "<div>\n",
       "<style scoped>\n",
       "    .dataframe tbody tr th:only-of-type {\n",
       "        vertical-align: middle;\n",
       "    }\n",
       "\n",
       "    .dataframe tbody tr th {\n",
       "        vertical-align: top;\n",
       "    }\n",
       "\n",
       "    .dataframe thead th {\n",
       "        text-align: right;\n",
       "    }\n",
       "</style>\n",
       "<table border=\"1\" class=\"dataframe\">\n",
       "  <thead>\n",
       "    <tr style=\"text-align: right;\">\n",
       "      <th></th>\n",
       "      <th>longitude</th>\n",
       "      <th>latitude</th>\n",
       "      <th>housing_median_age</th>\n",
       "      <th>total_rooms</th>\n",
       "      <th>total_bedrooms</th>\n",
       "      <th>population</th>\n",
       "      <th>households</th>\n",
       "      <th>median_income</th>\n",
       "      <th>avg_bedrooms</th>\n",
       "      <th>avg_rooms</th>\n",
       "      <th>avg_population</th>\n",
       "    </tr>\n",
       "  </thead>\n",
       "  <tbody>\n",
       "    <tr>\n",
       "      <th>longitude</th>\n",
       "      <td>1.000000</td>\n",
       "      <td>-0.925627</td>\n",
       "      <td>-0.111272</td>\n",
       "      <td>0.042788</td>\n",
       "      <td>0.069305</td>\n",
       "      <td>0.101596</td>\n",
       "      <td>0.056116</td>\n",
       "      <td>-0.020466</td>\n",
       "      <td>0.017548</td>\n",
       "      <td>-0.027099</td>\n",
       "      <td>0.011811</td>\n",
       "    </tr>\n",
       "    <tr>\n",
       "      <th>latitude</th>\n",
       "      <td>-0.925627</td>\n",
       "      <td>1.000000</td>\n",
       "      <td>0.013098</td>\n",
       "      <td>-0.034147</td>\n",
       "      <td>-0.066424</td>\n",
       "      <td>-0.109600</td>\n",
       "      <td>-0.070537</td>\n",
       "      <td>-0.074943</td>\n",
       "      <td>0.062059</td>\n",
       "      <td>0.104294</td>\n",
       "      <td>-0.002330</td>\n",
       "    </tr>\n",
       "    <tr>\n",
       "      <th>housing_median_age</th>\n",
       "      <td>-0.111272</td>\n",
       "      <td>0.013098</td>\n",
       "      <td>1.000000</td>\n",
       "      <td>-0.356534</td>\n",
       "      <td>-0.316644</td>\n",
       "      <td>-0.294652</td>\n",
       "      <td>-0.298702</td>\n",
       "      <td>-0.115736</td>\n",
       "      <td>-0.077163</td>\n",
       "      <td>-0.158539</td>\n",
       "      <td>0.012569</td>\n",
       "    </tr>\n",
       "    <tr>\n",
       "      <th>total_rooms</th>\n",
       "      <td>0.042788</td>\n",
       "      <td>-0.034147</td>\n",
       "      <td>-0.356534</td>\n",
       "      <td>1.000000</td>\n",
       "      <td>0.927454</td>\n",
       "      <td>0.859323</td>\n",
       "      <td>0.916556</td>\n",
       "      <td>0.198486</td>\n",
       "      <td>0.036170</td>\n",
       "      <td>0.146227</td>\n",
       "      <td>-0.031031</td>\n",
       "    </tr>\n",
       "    <tr>\n",
       "      <th>total_bedrooms</th>\n",
       "      <td>0.069305</td>\n",
       "      <td>-0.066424</td>\n",
       "      <td>-0.316644</td>\n",
       "      <td>0.927454</td>\n",
       "      <td>1.000000</td>\n",
       "      <td>0.880929</td>\n",
       "      <td>0.979547</td>\n",
       "      <td>-0.013082</td>\n",
       "      <td>0.054525</td>\n",
       "      <td>0.004237</td>\n",
       "      <td>-0.036556</td>\n",
       "    </tr>\n",
       "    <tr>\n",
       "      <th>population</th>\n",
       "      <td>0.101596</td>\n",
       "      <td>-0.109600</td>\n",
       "      <td>-0.294652</td>\n",
       "      <td>0.859323</td>\n",
       "      <td>0.880929</td>\n",
       "      <td>1.000000</td>\n",
       "      <td>0.910283</td>\n",
       "      <td>-0.001523</td>\n",
       "      <td>-0.062026</td>\n",
       "      <td>-0.072951</td>\n",
       "      <td>0.077684</td>\n",
       "    </tr>\n",
       "    <tr>\n",
       "      <th>households</th>\n",
       "      <td>0.056116</td>\n",
       "      <td>-0.070537</td>\n",
       "      <td>-0.298702</td>\n",
       "      <td>0.916556</td>\n",
       "      <td>0.979547</td>\n",
       "      <td>0.910283</td>\n",
       "      <td>1.000000</td>\n",
       "      <td>0.008033</td>\n",
       "      <td>-0.050050</td>\n",
       "      <td>-0.081950</td>\n",
       "      <td>-0.034892</td>\n",
       "    </tr>\n",
       "    <tr>\n",
       "      <th>median_income</th>\n",
       "      <td>-0.020466</td>\n",
       "      <td>-0.074943</td>\n",
       "      <td>-0.115736</td>\n",
       "      <td>0.198486</td>\n",
       "      <td>-0.013082</td>\n",
       "      <td>-0.001523</td>\n",
       "      <td>0.008033</td>\n",
       "      <td>1.000000</td>\n",
       "      <td>-0.059447</td>\n",
       "      <td>0.350785</td>\n",
       "      <td>0.000417</td>\n",
       "    </tr>\n",
       "    <tr>\n",
       "      <th>avg_bedrooms</th>\n",
       "      <td>0.017548</td>\n",
       "      <td>0.062059</td>\n",
       "      <td>-0.077163</td>\n",
       "      <td>0.036170</td>\n",
       "      <td>0.054525</td>\n",
       "      <td>-0.062026</td>\n",
       "      <td>-0.050050</td>\n",
       "      <td>-0.059447</td>\n",
       "      <td>1.000000</td>\n",
       "      <td>0.833841</td>\n",
       "      <td>-0.002194</td>\n",
       "    </tr>\n",
       "    <tr>\n",
       "      <th>avg_rooms</th>\n",
       "      <td>-0.027099</td>\n",
       "      <td>0.104294</td>\n",
       "      <td>-0.158539</td>\n",
       "      <td>0.146227</td>\n",
       "      <td>0.004237</td>\n",
       "      <td>-0.072951</td>\n",
       "      <td>-0.081950</td>\n",
       "      <td>0.350785</td>\n",
       "      <td>0.833841</td>\n",
       "      <td>1.000000</td>\n",
       "      <td>0.003475</td>\n",
       "    </tr>\n",
       "    <tr>\n",
       "      <th>avg_population</th>\n",
       "      <td>0.011811</td>\n",
       "      <td>-0.002330</td>\n",
       "      <td>0.012569</td>\n",
       "      <td>-0.031031</td>\n",
       "      <td>-0.036556</td>\n",
       "      <td>0.077684</td>\n",
       "      <td>-0.034892</td>\n",
       "      <td>0.000417</td>\n",
       "      <td>-0.002194</td>\n",
       "      <td>0.003475</td>\n",
       "      <td>1.000000</td>\n",
       "    </tr>\n",
       "  </tbody>\n",
       "</table>\n",
       "</div>"
      ],
      "text/plain": [
       "                    longitude  latitude  housing_median_age  total_rooms  \\\n",
       "longitude            1.000000 -0.925627           -0.111272     0.042788   \n",
       "latitude            -0.925627  1.000000            0.013098    -0.034147   \n",
       "housing_median_age  -0.111272  0.013098            1.000000    -0.356534   \n",
       "total_rooms          0.042788 -0.034147           -0.356534     1.000000   \n",
       "total_bedrooms       0.069305 -0.066424           -0.316644     0.927454   \n",
       "population           0.101596 -0.109600           -0.294652     0.859323   \n",
       "households           0.056116 -0.070537           -0.298702     0.916556   \n",
       "median_income       -0.020466 -0.074943           -0.115736     0.198486   \n",
       "avg_bedrooms         0.017548  0.062059           -0.077163     0.036170   \n",
       "avg_rooms           -0.027099  0.104294           -0.158539     0.146227   \n",
       "avg_population       0.011811 -0.002330            0.012569    -0.031031   \n",
       "\n",
       "                    total_bedrooms  population  households  median_income  \\\n",
       "longitude                 0.069305    0.101596    0.056116      -0.020466   \n",
       "latitude                 -0.066424   -0.109600   -0.070537      -0.074943   \n",
       "housing_median_age       -0.316644   -0.294652   -0.298702      -0.115736   \n",
       "total_rooms               0.927454    0.859323    0.916556       0.198486   \n",
       "total_bedrooms            1.000000    0.880929    0.979547      -0.013082   \n",
       "population                0.880929    1.000000    0.910283      -0.001523   \n",
       "households                0.979547    0.910283    1.000000       0.008033   \n",
       "median_income            -0.013082   -0.001523    0.008033       1.000000   \n",
       "avg_bedrooms              0.054525   -0.062026   -0.050050      -0.059447   \n",
       "avg_rooms                 0.004237   -0.072951   -0.081950       0.350785   \n",
       "avg_population           -0.036556    0.077684   -0.034892       0.000417   \n",
       "\n",
       "                    avg_bedrooms  avg_rooms  avg_population  \n",
       "longitude               0.017548  -0.027099        0.011811  \n",
       "latitude                0.062059   0.104294       -0.002330  \n",
       "housing_median_age     -0.077163  -0.158539        0.012569  \n",
       "total_rooms             0.036170   0.146227       -0.031031  \n",
       "total_bedrooms          0.054525   0.004237       -0.036556  \n",
       "population             -0.062026  -0.072951        0.077684  \n",
       "households             -0.050050  -0.081950       -0.034892  \n",
       "median_income          -0.059447   0.350785        0.000417  \n",
       "avg_bedrooms            1.000000   0.833841       -0.002194  \n",
       "avg_rooms               0.833841   1.000000        0.003475  \n",
       "avg_population         -0.002194   0.003475        1.000000  "
      ]
     },
     "execution_count": 8,
     "metadata": {},
     "output_type": "execute_result"
    }
   ],
   "source": [
    "X_train['avg_bedrooms'] = X_train['total_bedrooms']/X_train['households']\n",
    "X_train['avg_rooms'] = X_train['total_rooms']/X_train['households']\n",
    "X_train['avg_population'] = X_train['population']/X_train['households']\n",
    "\n",
    "X_test['avg_bedrooms'] = X_test['total_bedrooms']/X_test['households']\n",
    "X_test['avg_rooms'] = X_test['total_rooms']/X_test['households']\n",
    "X_test['avg_population'] = X_test['population']/X_test['households']\n",
    "\n",
    "X_train.corr()"
   ]
<<<<<<< HEAD
=======

>>>>>>> f5caf9a373bd32a4fd02020a7d75a03424f9a5f0
  },
  {
   "cell_type": "markdown",
   "metadata": {},
   "source": [
    "Observation: avg_bedrooms and avg_rooms are highly positively correlated and understandably so, as the number of rooms increases the bedrooms tend to increase too. Both of these also show negligible correlation with the avg_population"
   ]
  },
  {
   "cell_type": "markdown",
   "metadata": {},
   "source": [
    "## (f)"
   ]
  },
  {
   "cell_type": "code",
<<<<<<< HEAD
=======

>>>>>>> f5caf9a373bd32a4fd02020a7d75a03424f9a5f0
   "execution_count": 9,
   "metadata": {},
   "outputs": [
    {
     "name": "stdout",
     "output_type": "stream",
     "text": [
      "Mean Absolute Error Train  50474.268791457886\n",
      "Mean Absolute Error Test  50783.974603927876\n"
     ]
    }
   ],
   "source": [
    "reg2 = linear_model.LinearRegression()\n",
    "reg2.fit(X_train,y_train)\n",
    "y_pred_train = reg2.predict(X_train)\n",
    "y_pred_test = reg2.predict(X_test)\n",
    "print('Mean Absolute Error Train ', mean_absolute_error(y_train,y_pred_train))\n",
    "print('Mean Absolute Error Test ', mean_absolute_error(y_test,y_pred_test))"
   ]
<<<<<<< HEAD
=======

>>>>>>> f5caf9a373bd32a4fd02020a7d75a03424f9a5f0
  },
  {
   "cell_type": "markdown",
   "metadata": {},
   "source": [
    "# Question 4: Ridge and Lasso Regression (30 points)\n"
   ]
  },
  {
   "cell_type": "markdown",
   "metadata": {},
   "source": [
    "Using the same data from before, in this question you will explore the application of Lasso and Ridge regression using sklearn package in Python. Use the same train and test data with additional augmented columns from before. Scale the data so that each of the dependent variables have zero mean and unit variance. You can use the [sklearn.preprocessing.scale](https://scikit-learn.org/stable/modules/generated/sklearn.preprocessing.scale.html) function for this."
   ]
  },
  {
   "cell_type": "code",
<<<<<<< HEAD
   "execution_count": 10,
=======

   "execution_count": 40,
>>>>>>> f5caf9a373bd32a4fd02020a7d75a03424f9a5f0
   "metadata": {},
   "outputs": [],
   "source": [
    "from sklearn.linear_model import LinearRegression, Lasso, Ridge, RidgeCV, LassoCV\n",
    "from sklearn.model_selection import KFold\n",
    "from sklearn.model_selection import GridSearchCV\n",
    "from sklearn.preprocessing import scale\n",
    "import numpy as np"
   ]
<<<<<<< HEAD
=======

>>>>>>> f5caf9a373bd32a4fd02020a7d75a03424f9a5f0
  },
  {
   "cell_type": "markdown",
   "metadata": {},
   "source": [
    "1) Use sklearn.linear_model.Lasso and sklearn.linear_model.Ridge classes to do a [5-fold cross validation](http://scikit-learn.org/stable/auto_examples/exercises/plot_cv_diabetes.html#example-exercises-plot-cv-diabetes-py) using sklearn's [KFold](http://scikit-learn.org/stable/modules/generated/sklearn.cross_validation.KFold.html). For the sweep of the regularization parameter, we will look at a grid of values ranging from $\\lambda = 10^{10}$ to $\\lambda = 10^{-2}$. In Python, you can consider this range of values as follows:\n",
    "\n",
    "      import numpy as np\n",
    "\n",
    "      alphas =  10**np.linspace(10,-2,100)*0.5\n",
    "\n",
    "  Report the best chosen $\\lambda$ based on cross validation. The cross validation should happen on your training data using  average MAE as the scoring metric. (8pts)\n",
    "\n",
    "2) Run ridge and lasso for all of the alphas specified above (on training data), and plot the coefficients learned for each of them - there should be one plot each for lasso and ridge, so a total of two plots; the plots for different features for a method should be on the same plot. What do you qualitatively observe when value of the regularization parameter is changed? (7pts)\n",
    "\n",
    "3) Run least squares regression, ridge, and lasso on the training data. For ridge and lasso, use only the best regularization parameter. Report the prediction error (MAE) on the test data for each. (5pts)\n",
    "\n",
    "4) Run lasso again with cross validation using [sklearn.linear_model.LassoCV](http://scikit-learn.org/stable/modules/generated/sklearn.linear_model.LassoCV.html). Set the cross validation parameters as follows:\n",
    "\n",
    "    LassoCV(alphas=None, cv=10, max_iter=10000)\n",
    "\n",
    "Report the best $\\lambda$ based on cross validation. Run lasso on the training data using the best $\\lambda$ and report the coefficeints for all variables. (5pts)\n",
    "\n",
    "5) Why did we have to scale the data before regularization? (5pts)\n",
    "\n",
    "\n",
    "## Answer\n",
    "\n"
   ]
  },
  {
   "cell_type": "markdown",
   "metadata": {},
   "source": [
    "## 1"
   ]
  },
  {
   "cell_type": "code",
<<<<<<< HEAD
   "execution_count": 11,
=======

   "execution_count": 41,
>>>>>>> f5caf9a373bd32a4fd02020a7d75a03424f9a5f0
   "metadata": {},
   "outputs": [
    {
     "name": "stdout",
     "output_type": "stream",
     "text": [
      "Best lambda based on min average MAE from Ridge Regression is : 37.823166377731454\n"
     ]
    }
   ],
   "source": [
    "X_train_scaled = scale(X_train)\n",
    "X_test_scaled = scale(X_test)\n",
    "\n",
    "alphas =  10**np.linspace(10,-2,100)*0.5\n",
    "kf = KFold(n_splits=5)\n",
    "mae_df = pd.DataFrame(columns = alphas)\n",
    "\n",
    "#Loop for 5 cross validations\n",
    "for train_index, test_index in kf.split(X_train):\n",
    "    X_train_cv, X_test_cv = np.array(X_train_scaled)[train_index], np.array(X_train_scaled)[test_index]\n",
    "    y_train_cv, y_test_cv = np.array(y_train)[train_index], np.array(y_train)[test_index]\n",
    "    mae = []\n",
    "    #Looping for alphas(lambda)\n",
    "    for i in range(len(alphas)):\n",
    "        reg = linear_model.Ridge(alpha=alphas[i])\n",
    "        reg.fit(X_train_cv,y_train_cv)\n",
    "        prediction = reg.predict(X_test_cv)\n",
    "        mae.append(mean_absolute_error(y_test_cv,prediction))\n",
    "    mae_df.loc[len(mae_df)] = mae\n",
    "    \n",
    "# Calculating the minimum lambda based on the average MAE \n",
    "min_lambda_ridge = mae_df.mean(axis =0).idxmin()\n",
    "\n",
    "print ('Best lambda based on min average MAE from Ridge Regression is :', min_lambda_ridge)"
   ]
  },
  {
   "cell_type": "code",
<<<<<<< HEAD
   "execution_count": 12,
=======
   "execution_count": 42,
>>>>>>> f5caf9a373bd32a4fd02020a7d75a03424f9a5f0
   "metadata": {},
   "outputs": [
    {
     "name": "stdout",
     "output_type": "stream",
     "text": [
      "Best lambda based on min average MAE from Lasso Regression is : 0.005\n"
     ]
    }
   ],
   "source": [
    "alphas =  10**np.linspace(10,-2,100)*0.5\n",
    "kf = KFold(n_splits=5)\n",
    "mae_df_lasso = pd.DataFrame(columns = alphas)\n",
    "\n",
    "#Loop for 5 cross validations\n",
    "for train_index, test_index in kf.split(X_train):\n",
    "    X_train_cv, X_test_cv = np.array(X_train_scaled)[train_index], np.array(X_train_scaled)[test_index]\n",
    "    y_train_cv, y_test_cv = np.array(y_train)[train_index], np.array(y_train)[test_index]\n",
    "    mae = []\n",
    "    #Looping for alphas(lambda)\n",
    "    for i in range(len(alphas)):\n",
    "        reg = linear_model.Lasso(alpha=alphas[i])\n",
    "        reg.fit(X_train_cv,y_train_cv)\n",
    "        prediction = reg.predict(X_test_cv)\n",
    "        mae.append(mean_absolute_error(y_test_cv,prediction))\n",
    "    mae_df_lasso.loc[len(mae_df)] = mae\n",
    "    \n",
    "# Calculating the minimum lambda based on the average MAE \n",
    "min_lambda_lasso = mae_df_lasso.mean(axis =0).idxmin()\n",
    "\n",
    "print ('Best lambda based on min average MAE from Lasso Regression is :', min_lambda_lasso)"
   ]
<<<<<<< HEAD
=======

>>>>>>> f5caf9a373bd32a4fd02020a7d75a03424f9a5f0
  },
  {
   "cell_type": "markdown",
   "metadata": {},
   "source": [
    "## 2"
   ]
  },
  {
   "cell_type": "code",
<<<<<<< HEAD
   "execution_count": 13,
=======
   "execution_count": 51,
>>>>>>> f5caf9a373bd32a4fd02020a7d75a03424f9a5f0
   "metadata": {},
   "outputs": [
    {
     "data": {
      "text/plain": [
       "Text(0.5, 1.0, 'Ridge coefficients as a function of regularization')"
      ]
     },
<<<<<<< HEAD
     "execution_count": 13,
=======
     "execution_count": 51,
>>>>>>> f5caf9a373bd32a4fd02020a7d75a03424f9a5f0
     "metadata": {},
     "output_type": "execute_result"
    },
    {
     "data": {
<<<<<<< HEAD
      "image/png": "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\n",
=======
      "image/png": "iVBORw0KGgoAAAANSUhEUgAAAZoAAAEWCAYAAABfdFHAAAAABHNCSVQICAgIfAhkiAAAAAlwSFlzAAALEgAACxIB0t1+/AAAADh0RVh0U29mdHdhcmUAbWF0cGxvdGxpYiB2ZXJzaW9uMy4xLjAsIGh0dHA6Ly9tYXRwbG90bGliLm9yZy+17YcXAAAgAElEQVR4nOzdeXwV5bnA8d8z52TfEwJkgbAvASFgACvihihat7pUbOvWKtZqW9vbW+3tZnt7q9baVltbq0WrdUGtorihqFVR2UnY930JS/Y9Z3vuHzMJh5CNkOQk4f3CfM6cd96Zec5kzjxntndEVTEMwzCMzmKFOgDDMAyjdzOJxjAMw+hUJtEYhmEYncokGsMwDKNTmURjGIZhdCqTaAzDMIxOZRJNNyEij4vIz1sYriIyrCtjai8RiRKRN0WkTEReccp+IyKFInJQRAaKSKWIuFqZzjQR2dw1UXcvItJPRD4VkQoRebiL510pIkO6eJ7HrTOhJCK7ROSCkxi/w5dhW7833ZE71AGcKkRkF9AP8AOVwALgLlWtBFDVb4cuug53DfZnTVFVn4gMAP4LyFLVw06d2NYmoqqLgJEdEZCz/G9V1Q86YnpdYDZQCMRrJ97sJiIfA8+p6j/qy1S11b9NJzhmnQnB/DtURyzDxuusqu6hDd+b7sjs0XSty5wVMAeYAPwkxPF0lixgS9AGIwsoCkoyRuuygA2dmWS6mcbrTItEpFv+SO6ucYWcqpquCzpgF3BB0PvfAW8Hvf8n8Jug9/8NFAAHgG8CCgxzhqUAbwLlwHLgN8BnQeOOAhYCxcBm4KstxJUMPO3MpwR4PWjYbcA2ZzrzgfTW5gH8CvAAXuw9t9uBGiDgvP8nMMj5PO6WYgDOBfYFzTMdeBU4AuwEvhc07D7gZeBZoAJYD+Q6w/7lzL/GieHHQCTwHFAElDrLsV8zy+heYLsz3Q3AV4KGDQM+Acqw90BeamFZvwIcdOp+Coxppt4/neXnceK9oIn1o/Gy2QX8CFjjTP8lIDJo+BVAvrPObAdmAv+HvYdd68znL07d4HUtwVmmR4DdwM8Ayxl2M/AZ8Hvn77YTuLiFzz8a+NhZ3uuBy5tZZ77VxLj3Af92/mblwK3YP5Tr/zZFzt8/OWicG52Yi4CfE/QdbOPyrK87GVjsxF0A/AUID6qrwJ3AVmBn8DLEXmcrg7pqQJ06Q4GPnPgKgeeBxBbW2UEc+71Jx/5eFmN/T29ry/chJNu/UM34VOsarbiZwFrgkaDhDSs+9kbgEDAWiAFe4Ngv/1yniwaygb04icapvxe4BfvQ6ERnJW5uo/Y29kYpCQgDznHKz3fGmwhEAH8GPm3LPJyV/LmgeTT+Ejf+wjQXQ8N42BuVlcAvgHBgCLADuChonrXAJYALuB9Y0tTyd97fjp2so536p2MfpmpqGV3rfKkt4DqgCkhzhr0I/NQZFgmc1cI68E0gzlmefwLyW6jbsD40877xMt0FLHPiTAY2At92hk3GTj4znDgzgFHOsI+xD88Ezzt4XXsWeMOJexCwBScRYCcaL/YPEhdwB/aPBWni84Rhbwz/x/n7nY+9ARzZ1DrTxPj3OfO60vkMUcDdwBLs71ME8HfgRad+NvYG+ixnfr93xm9PojkdOAN7XR/kLNu7Gy2vhc5yj2q8DBt9jueDYhzm/E0igFTsHx9/amGdHcSx35tPgL9ir3c52D8Gprfl+9Dl279QzfhU65yVptL5cinwIc6vF2d4w4oPPAU8EDRsBEd/IbmcL8zIoOENezTYG8JFjeb9d+CXTcSUhv2rKamJYXOA3wW9j3XmO6i1eXACiaaVGBrGA6YAexoN/wnwdNA8Pwgalg3UNFr+wV/abwJfAOPa8bfMB65w+p8FngAyT3Aaic4ySGhmeMP60Mz7xst0F/CNoPe/Ax4P+tv8sZn5fEwzicZZ1+qA7KBhtwMfO/03A9uChkU74/ZvYj7TsPfmrKCyF4H7mlpnmhj/PpwfOkFlG3E2rEHrs9dZr36Bs0EPis1DOxJNE7HcDcxrtLzOb2oZNiq7B/vHUlQz070SyGthnR3E0e/NAOy90big4fcD/2zL96GrO3OOpmtdqapx2Cv1KKBPM/XSsfcY6u0O6k/FXtGChwf3ZwFTRKS0vgO+DvRvYj4DgGJVLWkmhob5qn3RQhH2r+ETmUdrWoohWBaQ3mie/4N9ArnewaD+aiCyhWPm/wLeA+aKyAER+Z2IhDVVUURuFJH8oPmO5ejf7seAAMtEZL2IfLOZabhE5AER2S4i5dgbEWh+HWiPxp+//sTxAOzDSyeqD/beQPD6txt7HThunqpa7fQ2dcI6HdirqoEWptWavY3eZwHzgv4uG7E3vv1o9B1yYis6gXk1EJERIvKWc8VkOfBbjv+7NY6t8TQuBr6PvQ2occr6ishcEdnvTPe5JqbbnHTs701FUFmzfxta/z50KpNoQkBVP8H+RfX7ZqoUYG8c6g0M6j8C+LAPF9QLrrsX+ERVE4O6WFW9o4n57AWSRSSxiWEHsL/IAIhIDPa5of0nOI/WtBRD43o7G80zTlUvaeN89Jg3ql5V/ZWqZgNnApdiH9M/hohkAU8Cd2FfEZUIrMNOLqjqQVW9TVXTsX/t/7WZy9C/hn2e5ALs8x6D6mfRxvirsH+V1zuRpL4X+3xAU7SZcrAPh3oJWg+w18X9JzDvegeAASISvM050Wk1jnUv9jmh4HUiUlX3Y3+HGr4jIhKFvf7WO5Hl+TdgEzBcVeOxf+A0/rs1uxxFZCTwDPZ5zOCEdL8z3jhnut9oNN2W/jYHsL83cUFl7f3bdDqTaELnT8AMEclpYtjLwM0iki0i0cAv6weoqh94DbhPRKJFZBTHbiDfAkaIyA0iEuZ0k0RkdOOZqGoB8C72xjHJqXu2M/gF4BYRyRGRCOxfcUtVddeJzKM1rcQQbBlQLiL3OPdcuERkrIhMauOsDmGf1wFARM4TkdOcexLKsTeo/ibGi8H+wh9xxrsFe4+mfjrXikj9Bq3EqdvUdOKwD0MVYW/gftvGuOvlA5eISLKI9Mc+fNNWc7D/ltNFxBKRDGe9gUbLJZizrr0M/J+IxDlJ94fYv7xP1FLsjfuPnb/xucBl2Oca2+txJ7YsABFJFZErnGH/Bi4TkTNFJBz7goPgjfiJLM847HWk0llubf5BJSLx2Oe4fqaqnzUx3UqgVEQysC8ACtbS32Yv9qHf+0UkUkTGAd/CPgfU7ZhEEyKqegT7+P5xN2mq6rvYiegj7BOoHzWqchf2r+KD2IeAXsTeiOHsSl8IzML+1XMQeBD7hGNTbsDeyG4CDuN84VT1Qye2V7F/HQ51ptmeebSmyRiCORu9y7BPeu7E/rX9D+zl0Bb3Az9zDrP8CPsX7L+xNyAbsU+sHrcBVdUNwMPYVx0dAk4DPg+qMglYKiKV2FcAfV9VdzYx/2exD23sx75ybUkb4673L2A19iG397EvnmgTVV2GfeHGH7EvCviEo3spjwDXiEiJiDzaxOjfxU4QO7CvMHsB+xziCVFVD3A5cDH23+6vwI2quulEpxXkEexl/r6IVGAv0ynO/NY7sc/FXn8rsNetOmfcE1meP8LeI63A3rtt87LHvlBmJPAH52bLSmddATv5TcT+m7yN/QMyWON1trHrsfeMDwDzsM+RLjyB2LqMOCeKjB5MRB7EPgF7U6hjMYzuSERisS9PHt7MDwGjE5k9mh5IREaJyDixTcbeZZ4X6rgMozsRkcucw8sx2OdD13L0IgyjC5lE0zPFYe9mV2EfQ38Y+ziwYRhHXYF9WOkAMByYpeYQTkiYQ2eGYRhGpzJ7NIZhGEanMg3ANdKnTx8dNGhQqMMwDMPoUVauXFmoqqlNDTOJppFBgwaxYsWKUIdhGIbRo4jI7uaGmUNnhmEYRqcyicYwDMPoVCbRGIZhGJ3KJBrDMAyjU5lEYxiGYXQqk2gMwzCMTmUSjWEYhtGpzH00HcTn8xEIBFqvaHQ7bW2Gqbl6weX1/S29qiqBQOCYR90GAoHjOr/fj9/vJxAI4PP5Gt77/f6G9/X16qdnWRYigtvtJioqiqioKGJiYkhNTSUqKqrdy8gwToZJNB1k6dKlLFzYLR8FYRgAxMfH079/f0aPHs2oUaNM4jG6jEk0HSQrK4sZM2aEOgyjE4g0/bTlxuXB7+v7g1/rO6Bhz0NEGvotyzqmc7lcuFwuLMvC7XY3vHe5XA3v6+vVT6N+z8bn81FTU0NNTQ0VFRUcPnyYQ4cOsXfvXrZs2cKbb77J8OHDOeecc0hPT++MxWYYDUzrzY3k5uaqaYLG6K1UlQMHDrBu3TpWr15NdXU1OTk5TJ8+nbi4uNYnYBjNEJGVqprb5DCTaI5lEo1xqqitreXTTz9lyZIluN1urrjiCsaMGRPqsIweqqVEE7KrzkRkpIjkB3XlInK3iNwnIvuDyi8JGucnIrJNRDaLyEVB5TOdsm0icm9Q+WARWSoiW0XkJREJ7+rPaRjdVWRkJBdeeCF33nknffv25ZVXXuGzzz5r88URhtFWIUs0qrpZVXNUNQc4Hajm6OOI/1g/TFXfARCRbGAWMAaYCfxVRFwi4gIeAy4GsoHrnboADzrTGg6UYD/y2DCMICkpKdx0002MGTOGDz74gPnz5+P3+0MdltGLdJf7aKYD21W12WamsR/LOldV61R1J7ANmOx021R1h6p6gLnAFWKfdT0f+Lcz/jPAlZ32CQyjBwsLC+Pqq69m2rRp5OXl8dZbb5k9G6PDdJdEMwt4Mej9XSKyRkSeEpEkpywD2BtUZ59T1lx5ClCqqr5G5ccRkdkiskJEVhw5cuTkP41h9ECWZTF9+nTOPvts8vLy+Pzzz0MdktFLhDzROOdNLgdecYr+BgwFcoAC4OH6qk2Mru0oP75Q9QlVzVXV3NTUJh8QZxinjPPOO6/hMNrGjRtDHY7RC4Q80WCfW1mlqocAVPWQqvpVNQA8iX1oDOw9kgFB42UCB1ooLwQSRcTdqNwwjBaICFdeeSWZmZm8+uqrFBQUhDoko4frDonmeoIOm4lIWtCwrwDrnP75wCwRiRCRwcBwYBmwHBjuXGEWjn0Ybr7aB5j/A1zjjH8T8EanfhLD6CXCwsKYNWsWUVFRzJs3D5/P1/pIhtGMkCYaEYkGZgCvBRX/TkTWisga4DzgBwCquh54GdgALADudPZ8fMBdwHvARuBlpy7APcAPRWQb9jmbOV3wsQyjV4iNjeXSSy/l8OHDLFq0KNThGD2YuWGzEXPDpmEc67XXXmPdunXMnj2b/v37hzoco5vqljdsGobRM8ycOZOoqChef/11c3+N0S4m0RiG0aLo6GguvfRSDh48yJIlS0IdjtEDmURjGEarRo8ezfDhw1m0aBHV1dWhDsfoYUyiMQyjTS644AJqa2v57LPPQh2K0cOYRGMYRpv069ePnJwcli5dSmlpaajDMXoQk2gMw2izc889F4CPP/44pHEYPYtJNIZhtFliYiJTpkwhPz+fQ4cOhToco4cwicYwjBNy1llnERERYfZqjDYzicYwjBMSHR3N5MmT2bhxI0VFRaEOx+gBTKIxDOOETZ48GZfLxeLFi0MditEDmERjGMYJi4uLY/z48eTl5VFZWRnqcIxuziQawzDa5cwzz8Tv97Ns2bJQh2J0cybRGIbRLn369GHUqFEsW7aMurq6UIdjdGMm0RiG0W5Tp06ltraWVatWhToUoxszicYwjHYbMGAAAwYMYPny5QQCgVCHY3RTJtEYhnFSJk2aRHFxMTt37gx1KEY3ZRKNYRgnJTs7m+joaMwDA43mmERjGMZJcbvd5OTksGnTJsrLy0MdjtENmURjGMZJy83NRVXNRQFGk0yiMQzjpCUnJzN06FBWrlxpHvdsHCfkiUZEdonIWhHJF5EVTlmyiCwUka3Oa5JTLiLyqIhsE5E1IjIxaDo3OfW3ishNQeWnO9Pf5owrXf8pDaP3y83NpaKigq1bt4Y6FKObCXmicZynqjmqmuu8vxf4UFWHAx867wEuBoY73Wzgb2AnJuCXwBRgMvDL+uTk1JkdNN7Mzv84hnHqGTFiBHFxceaiAOM43SXRNHYF8IzT/wxwZVD5s2pbAiSKSBpwEbBQVYtVtQRYCMx0hsWr6mJVVeDZoGkZhtGBXC4XEyZMYPv27eaiAOMY3SHRKPC+iKwUkdlOWT9VLQBwXvs65RnA3qBx9zllLZXva6L8GCIyW0RWiMiKI0eOdMBHMoxTU05ODqrK6tWrQx2K0Y10h0QzVVUnYh8Wu1NEzm6hblPnV7Qd5ccWqD6hqrmqmpuamtqWmA3DaEJycjJZWVnk5eVhH0QwjG6QaFT1gPN6GJiHfY7lkHPYC+f1sFN9HzAgaPRM4EAr5ZlNlBuG0UlycnIoLi5m7969rVc2TgkhTTQiEiMicfX9wIXAOmA+UH/l2E3AG07/fOBG5+qzM4Ay59Dae8CFIpLkXARwIfCeM6xCRM5wrja7MWhahmF0guzsbMLCwsjLywt1KEY34Q7x/PsB85wrjt3AC6q6QESWAy+LyLeAPcC1Tv13gEuAbUA1cAuAqhaLyP8Cy516v1bVYqf/DuCfQBTwrtMZhtFJIiIiGDNmDOvXr+fiiy8mPDw81CEZIRbSRKOqO4DxTZQXAdObKFfgzmam9RTwVBPlK4CxJx2sYRhtlpOTQ35+Phs2bCAnJyfU4RghFvJzNIZh9D5ZWVkkJSWRn58f6lCMbsAkGsMwOpyIkJOTw65duygtLQ11OEaImURjGEanGDduHIC5p8YwicYwjM6RlJREVlYWq1evNvfUnOJMojEMo9OMHz+e4uJi9u3b13plo9cyicYwjE6TnZ2N2+02h89OcSbRGIbRaSIjIxk9ejTr1q3D5/OFOhwjREyiMQyjU40fP57a2lo2b94c6lCMEDGJxjCMTjVkyBBiY2PN4bNTWKiboOk1Ah4/6g2EOgyjFc0+X7V+QPBwscvtQdLw3n617xUxWmdZFuPHj+eLL76goqKCuLi4UIdkdDGTaDpI1eICyt7dGeowjK4kgCV2MrIELEFcdofbsvvdFhJm2a/hLiTChRXhQiLdWNFurCg3rtgwrLhwXHHhuOLDEVfvO9CQk5PD559/zpo1a5g6dWqowzG6mEk0HSRiWCKJlw8NdRinrjbcp6HNvmlcpkf7Ve1JqzMPDSoLqN0fcPoDivoDqF/B7/R7A6jPfg2U1aEeP4E6P4EaH/ibCMICV0IE7uRI3KnRhKXFENY/hrC0GKxwV1uXRreTmppKZmYm+fn5nHnmmWZv8BRjEk0HCc+IJTwjNtRhGD2EqtrJp8ZHoNKLv8JDoNyDr7QWf3EtvuJaqvMOo0v89giW2OvY4HgihyYSMTQRcfesPZ8JEybw5ptvsn//fjIzM1sfweg1TKIxjBAQESTcZe+lJEQ0WUdV8ZfW4S2owrOnnLqd5VR+foDKT/cj4S4iRyYRdVoforJTekTSGTNmDO+++y55eXkm0ZxiTKIxjG5KRHAnReJOiiQqOwUA9fqp3V5G7YYiajYUUbO2ECvaTfTEfsRM7k9Y3+gQR928yMhIsrOzWbduHTNnziQsLCzUIRldxCQaw+hBJMxF1KhkokYlk3jlMOq2lVK1/CCViw9Q+dl+osamEHfewG57GHfChAmsWbOGjRs3NjS6afR+JtEYRg8llhA5IonIEUn4Kz1UfnGAyi8OULOuiMhRySR8eTBhqd1rDycrK4vExETy8vJMojmFdP8Du4ZhtMoVG07ChYNIu3cy8RdmUbezjEN/WkXpOzsJ1Hafpl8sy2LChAns3LmToqKiUIdjdBGTaAyjF7Ei3cSfP5D+P8olekJfKhft4+DDK6nZXBzq0BpMnDgRy7JYsWJFqEMxuohJNIbRC7niwkm+ZgR9v5ODFe2m6On1lLy+jYDHH+rQiIuLY/To0eTl5eHxeEIdjtEFQnaORkQGAM8C/YEA8ISqPiIi9wG3AUecqv+jqu844/wE+BbgB76nqu855TOBRwAX8A9VfcApHwzMBZKBVcANqtopa/ae9UVsX3W4MyZtdJA2P3pLm+w99qZQbXx/p12gwTd61g9zbupU50ZPDajdqRIIHH0faPzqt+sH6m8MdaYtApbLwuUW3OEuIqLcRES7iYoPJyE1moTUKJLSoolLjiR8QBz97ppA2fu7qPxsP3XbSkm5YTRh/WJOePl1pEmTJrF+/XrWr1/PhAkTQhqL0flCeTGAD/gvVV0lInHAShFZ6Az7o6r+PriyiGQDs4AxQDrwgYiMcAY/BswA9gHLRWS+qm4AHnSmNVdEHsdOUn/rjA9TXljD7nXmmHO318Y70ptvEy24VxreN9QXoaFptPp20pxXEUGs+le7zLLsfleYhduShvd2Mqnvt8vr51+fhAJ+xevxU1vlpexIDVXlHnx1R/dYYpMjyBiRxIDRyQy5IIvIUckUz93E4cdWk3zdSKLGpJzAgutYWVlZpKamsmzZMnJyckxLAb1cyBKNqhYABU5/hYhsBDJaGOUKYK6q1gE7RWQbMNkZtk1VdwCIyFzgCmd65wNfc+o8A9xHJyWasedkMvYccxOaETqqSnW5h/IjNRzZW8mBrSXsXlfE5iUHCY90MWJKf7KvHkHgg90U/WsD8TOyiDt/QEg28iLCpEmTeOedd0xLAaeAbnF5s4gMAiYAS4GpwF0iciOwAnuvpwQ7CS0JGm0fRxPT3kblU4AUoFRVfU3Ubzz/2cBsgIEDB578BzKMEBARYhIiiEmIIG1YIuPOy0QDSsH2MjZ8doCNnxew7pP9jDi9L+OykylfuBt/WR2JVw6zGwXtYuPHj+eDDz5g+fLlJtH0ciG/GEBEYoFXgbtVtRx7j2MokIO9x/NwfdUmRtd2lB9fqPqEquaqam5qauoJfgLD6L7EEtKHJ3LBLdnc/OBUTr84i+2rC3l9xREqB8RRtewgxS9uQn1d/4iLiIgIxo8fz7p166ioqOjy+RtdJ6SJRkTCsJPM86r6GoCqHlJVv6oGgCc5enhsHzAgaPRM4EAL5YVAooi4G5UbxikpMiaMM64Yytfum0LW2D58uLaY3VFuatYWUvjshpBckXbGGWcQCARYvHhxl8/b6DohSzRiHxieA2xU1T8ElacFVfsKsM7pnw/MEpEI52qy4cAyYDkwXEQGi0g49gUD81VVgf8A1zjj3wS80ZmfyTB6gvg+UcycPZYLbx3D+mIP6/xQu6WEon9t6PKH96WkpDB27FhWrFhBdXV1l87b6Dqh3KOZCtwAnC8i+U53CfA7EVkrImuA84AfAKjqeuBlYAOwALjT2fPxAXcB7wEbgZedugD3AD90LhxIwU5shmEAw3P7ce1PcimJCyev2kfd1lKKnt/Y5YfRzjrrLDweD0uXLu3S+RpdR7QND4w6leTm5qq5Y9k4lXjr/Lw/Zz26qYicaDeR2SmkfH1Ulz7pc+7cuezatYu7776byMjILpuv0XFEZKWq5jY1LOQXAxiGEVphES5m3j6W8PF9WVPtp3ZDEcWvbEEDXfcjdNq0adTW1ppmaXqpNiUaEZkqIjFO/zdE5A8iktW5oRmG0VVcLosZt2QTObkvG2r81OQfYfereWwv2Ua5p7zT55+RkcHQoUNZvHixaZamF2rrfTR/A8aLyHjgx9jnOp4FzumswAzD6DzlnnI2F29mS8kWtpRsYVvpNgoqCyj0FTI14Soiys9l6Moqnt/zInP7LCApIoms+Cwm9Z/EhYMuZGTSyA6/0fPcc89lzpw5LFq0iOnTp3fotI3QatM5GhFZpaoTReQXwH5VnVNf1vkhdq32nqOpqtpGReXGTojI6Amkydu27CFHexvaqXHqi/O/vt9CsBCxAAsRFyJuxHJhSRgiYVhWOJYVicsVhcsVg2WFt7rBL6wpZFPxJjYVb2Jj0UY2FG1gX+W+huFJEUkMSxpGZmwmabFp9I3qR8WCWEbuimBAuMXGyYf5vP9adpTtYPWR1QQ0wMC4gVw74lquG3UdUe6ok1hyx3rttddYv349d955J8nJyR02XaPztXSOpq2J5hPsK71uAc7GbvAyX1VP68hAu4P2Jprdu59g2/YHOyEiw2ieSDjhYUm4whIJWHHUWnGU+sMo8CprKirYVLqXkrqShvoZsRlkp2STnZLNqORRjEoeRUpkynHJKuAP8N6T60jdWkK/MIuU60cRPT6V4tpi/rPnP7yz8x2WHVxGalQqs8fN5urhVxPmOvlHM5eXl/PnP/+ZIUOGcP3115/09Iyu0xGJpj92m2HLVXWRiAwEzlXVZzs21NBrb6LxekvweLrPMz+MrtT0d0jry1Xxqx91XgNO5w/48asPX8CHP+DDF/DiDXjw+j34AnXU+Wrx+Gqo9VdT56umzldJna+KWm8FHl8FHm8Ffn8F+CuJFB8JrgB93EqU1TBbqq1EiBpOat/LyM64lISIhDZ/Kr83wDuP5TNwXyXJ4ULqzWOJHJHUMHzloZU8uupRVh1exdCEofzftP9jTMqYdi/Fep999hkffPAB3/jGNxg2bNhJT8/oGh2RaB5U1XtaK+sN2ptontvwHI/lP9YJERkdRdv4oIDg70Rz46hqw7D6/oZHBdT/C6rTUdziJj4inqSIJBIjE0mOTKZfdD/6Rvelf0x/MmIySI+Kw/IWUFa2itKyFZSWLicQqCUqahDpadeQmfkN3O64Ns3PU+vjrT+sYmRJLQkRFqm3jSMiK/6Y5fDpvk/59eJfU1xbzOzxs7n1tFsJs9q/d+Pz+fjrX/+KiHDHHXfgdneLJhmNVnREojnufIyIrFHVXvfQ7/YmmqUFS/l478cdH5DRodp6Ajv4nMsx/dKoXI72C3aT/vX1RQRLLCwsRASXuBpeXeLCZdmvbsvd0IVb4US4IghzhRHljiLSFUmUO4qYsBhiw2OJdEWe8El4n6+Sw4cXUHDwNUpLlxIWlszgwd8lI30WlhXe6vg1FR7efGgl42u9xES66HvbOMIHHJuoyurKuH/Z/by9423GpY7j4XMepn9M/xOKM9iWLVt44YUX+NKXvsRFF13U7ukYXafdiUZE7gC+AwwBtgcNigO+UNWvd2Sg3YG5YdPozcgG8HUAACAASURBVMrL17Jt2wOUlC4hKiqL7OyHSEw4vfXximp4+6GVnK5KdISLvrNPIzzz+L2iBbsW8MvPf0mkO5KHzn6IyWmTm5ha27zzzjssW7aM66+/npEjR7Z7OkbXOJkbNl8ALsNuZ+yyoO703phkDKO3i48/jQkTnmP8+DmgyqpV17Nr1+PYbdi2MF5KFDPvnsCKANTU+Tn8j7V49lceV2/moJm8eOmLJEQkcNvC2/jnun/S3tZHZsyYQf/+/Zk3bx6lpaXtmobRPbSYaFS1TFV3qer12K0ke7HPfMY6FwQYhtHDiAh9Us5l8uT5pKbOZPuOh8jPvwWvt6TF8ZL6x3DR3RNY5lNqa/0c/vtqarcdnwCGJAzhxS+/yPSB03l45cPcs+geanw1JxxnWFgY1157LYFAgFdffRW/v+tblzY6RltbBrgLOAQsBN52urc6MS7DMDqZ2x3H2DGPMGrUbyktW8aKlddRW9vykzRSMmKZ8b0cFtcGqPQEKHxqHdWrDx9XLyYshofPeZjvT/w+C3Yu4MZ3b2R/5f4TjjElJYXLLruMvXv38tprr5lk00O1ta2zu4GRqjpGVU9zul53IYBhnGpEhIz068gZ/wwez2FWrLyWysrNLY7TNyuemT+cyDI/FPuV4hc3U/7x3uPaRhMRbj3tVh6b/hj7K/bz1Te/yid7PznhGE877TQuvPBC1q9fz+uvv04g0PUPaTNOTlsTzV6grDMDMQwjdJKSJnP6xJdQDbBy1SzKyvJarJ86MI7L//t01rot9vuU8gW7KHpmPf4q73F1p2VO48VLXyQ9Np27PrqLP6z4A97A8fVacuaZZzJ9+nTWrl3LG2+8YZJND9PWy5vnACOxD5nV1ZcHP7CstzBXnRmnspqafeTl34jHU8SEnH+SkDChxfpVZXW8+Wg+cYU1jIt24YoPJ/mrI4kcmnhc3Tp/HQ8tf4iXNr/EuNRx/O/U/2VIwpATiu/jjz/m448/ZujQoVx11VXExMSc0PhG5+mI+2h+2VS5qv7qJGPrdkyiMU51tbUFrMr7upNsniYhoeUmDb0eP4vmbuHA0gLOSAgnMqBET+hLwsWDccUff5/Ogp0L+M3S31Dtreb2cbfzzbHfPKHma1asWMG7775LdHQ01157LQMHmuuSuoOTTjRBE4pR1aoOi6wbMonGMI5NNjk5T7V6r436fKx/ay2LFxYzLNxiWISLwogAuxKLqUyF8sR4NCGevulp9EtKJJJKXl7zR97f/S7DEofx3Qnf5bwB57X5ZtSCggJefvllSktLOeOMM5g2bRrR0dEd8dGNduqIPZovYT8aIFZVBzqPC7hdVb/TsaGGnkk0hmGrrTvIqlVfx+M5wvjxc0hKnHTM8EBVFeXvL6Rs/hvUrMpD6+pYP3gcb5x/PeuGZlKQ1HLTMREBPwMC1VR6NlBVnUd2tPJf477BWZlTsaT108e1tbW899575OXlERkZybRp05g0aRLh4a23dmB0vI5INEuBa4D5qjrBKVunqmM7NNJuoL2JZseRSrYcquiEiIzQa/pXdvCPbzmm/GijNSJO5zRXYznDLBEsqW+mBlyWYFmC2xLcloXbZfeHuSzCXBbhbosIp3N34SOW6+oOsSrvBmprDzB+/JMkJ30Jz549FD7xBOXvvItWVxOWNZCimV/m8bG5vOuOxgWMD48gfXMVmXuqGWtZDPeBW5XSWC8lHGR32S42ibItM4stAwdTFW2fa4mqKSLet5sp/ZL45rDJTE5Ox2plL+fQoUMsXLiQbdu2ERERwbhx45g4cSJpaWldsISMeh2SaFR1iojkBSWa1ao6voNj7XAiMhN4BHAB/1DVB1qq395E8/dPtnP/u5vaF6RhnAC3JUSFu4gOdxET4SYuMoz4SDfxUWGkxISTFB1On9hw+sZH0i8+krSESFJjI7Cs9j2orM5TSF7eN6ip3kNG/pfwz1mGuFwkXH4ZEVd+hYdiU3m2oIgIy+L2zFRmD0glKcyNBpR9m0pY9+l+CtYWkukWBkS5qG+4RuLDcCd48VXsYVPxTpbVlLN64GDWDB9FcYLdSnSkp4rB3lJyUxM5b9BIchLiSYsIa/IQ2+7du1m5ciXr16/H7/eTnJzMsGHDGDp0KFlZWURGRrZ3kRtt0BGJ5t/AH4C/AGcA3wNyVXVWRwba0UTEBWwBZmC3bLAcuF5VNzQ3TnsTTWFlHUcq6lqvaPQozX09gltlblyn/r3dgrPdlIbdkrM9rL4/EFD8atfxO/1+v+ILKL5AAH9A8fgCeP2K1x+gzuen1hugxuunxuOn2uOjqs5Pea2Xilof5TVeiqs9lFYff+lwuNsiMymKgcnRDE2NdboYRvWPJyG65RPxgZoaDj31CFvj5uBND5C260sMv/wP7I6N57Z1u9hYVcstGX344aB+pIY3Pa3Kkjp25B9mz/piSreUkCLQxyX0CbMIk/rlBYFIISC17PQXstIqZ1NcBBsy+rMrNRW17D252Noq0mvLyBQfw2KjGZbch2F9+5OZkkTf8DDUU8fatWvZunUrO3fuxOfzAZCUlERaWhqpqakkJyeTlJREYmIiMTExuFyuFpeB0bqOSDR9sPcKLsA+SvA+8H1VLerIQDuac27pPlW9yHn/EwBVvb+5ccw5GqOn8/kDFFd7OFxex8GyWgrKathXUsOe4mp2FVWzs7CSWu/R+1DSEyIZlRbP2PR4stMTGJsRT0ai/dTMyg8/5NBv78d74ACxV8yk8OpCiiu/YEvyT/h9+WQiLOHPo7OYnhLfXDjHx+fxc2RPBUf2VlK4p5yqfZVYZXVEefzEuYRoS4ixwB2011Llgq1xLjbFCZtjhb3RFntjXBRFBSUIVQhApMdHfK2HKI+XSJ8Pt8+DS72I+tCAFyvgwyKAS/1YgQCWBnBrALcqLsCFYjn9lioWigUIarfQrfbhUMvZdkrDsPp3ihW8WW04jqrHHmJtRxNwHfvw7ONNGJDGdVd9tV3jtpRo2vSgB1UtBHpiI5oZ2Deb1tsHTAlRLIbRJdwui75xkfSNi2RsxvEPOgsElANlNWw9XMnmgxVsKihnQ0E5H28+TP3N/YkRLoZUHmTQrvWMSM8h995fM/i8M8h0w//lzeUvJWMY7drNE9kjGZ7c9iQD4A53kTYskbRh9r02NR4/hZV1HCqpYd/BSo6U1FJUVktRSRVl5RVUeCqo9tdRV6V4qpQ6LDy4cKtFsrrxqgtfwEXwZrzc6YLm6nTm8FlLNkgB13XCdFtMNCLyY1X9nYj8mSYeI6iq3+uEmDpSUz8AjvscIjIbmA2Ya/KNXs+yhMykaDKTojlvZN+G8hqPn417Cln66nusWb2D7QnpvDniHLwq8FEp1n8WEBMTTml4X7LiDzPGtYind7zBkPQzGJRxMZHhEYS77cNbXn8Arz9Ajcc+tFde46O0xkNxlYeiSg9FVZ6Gw83VnqbbLxMCRLlriXLXEBVRS6S7lmiXh0TLQxhewvASrj7C8OJWP2Hqx43f2QuxcCHOs4BcWM5+hzj7JwFc+HEREJfdL3a53QkqQsBpOMXe97NQgYDaF3Uo4hw+tevC0Q2LtmG/Qxu9tkln784AuXGdc4l4a3s0G53XnnosaR8wIOh9JnBcq4Gq+gTwBNiHzromNMPoPjQQwPPuW8T96RHOLSjgsotn0u/eO6BPKruLqth0sILHNxxg9aFyUn2Cv9DH21Xn2OejNgHktzoPlyUkRYeTEuMmIdLL8ORyxsTvJUJ3kxB1mPjICmLDqoiimkCtEPDGEquR9PdVk1W1h5SaI0TUKhbhWH2GQ58R0Gc4JGZBQgbEZ0JsX4iIO/aSQCPkWkw0qvqm8/pM14TT4ZYDw0VkMLAfmAV8LbQhGUb3oYEAlR99ROFf/0bthg1EZmeT/sADxEw5+sCyIamxPFFSyop+bu7IHckvhqYjIvgDSkm1h50HlrFn/wKOlOTh9SthYcnERPUhNqov0RFRRLmriLIqEC2gtmYHdXUHG6btrXZRWRhNQUk/jmg2kUOmk5tUx4gD83DtXgABL0QmwNDpkHUmZJwO/caC29wr05O06RyNiCwErlXVUud9EjC3/iR7d6WqPucRB+9hX978lKquD3FYhhFygZoayt95h6I5T+HZsYOwjAzSH3yA+MsuQ6yj9+moKj/Zso9nDxRx18C+/HRIWsOlxS5L6BMbQZ8R05g0YhpebwkHD71Feflqamr2UFOzBF9NFbii8bpicLsT8Fekc3CtRfURix0VWWyJzuWsGdP5ysx+DNr5Miy+B8r3QXQKTJ4Noy+FzMngatOmyuim2nrVWb6q5jQqa7inpjcxV50ZvZV6vVSvWEHZG/OpeP99AtXVRIwaRcqttxI/8yLEfezGXFX56db9PLW/kO8M6MvPh6Y1ef9KW2xe/Bn/eeZJqkqK2BmVxfass7l+5hSuHd+XqLXPwaKHofIgDJoGk26FkZeYvZYe5qSvOgP8IjJQVfc4E8ziBM9jGYbRtQJ1ddRt2UpNfj5VX3xB9bJlBKqqsGJjibt4JgmXX0H05ElNJo+AsyfzzIEibh+Q2u4k46mp5qOn/876Tz6kOKovn6RdwcUzpvLQjJFEHVoJT30VCjdD1lS4Zg4MOqsjPrrRzbQ10fwU+ExE6p9adDbOVVqGYYSGBgL4y8rwHTlidwcP4tmzF+/ePdRt30Hd9u3g3KwYNmAA8ZdeSszUM4k9+2ysFu6S96vy35v38kJB8XGHy07EoR3beOtPD1J6+CDLk3IpGX42j311IuP7hcGHP4Wlj0N8BnztZRh+oTmB34u19T6aBSIyEbtVAAF+4NxbYzhqN26kZvWaUIdhHOckd7w1uAUAbbL8mFnYt/7bhar2OBpUrgG7zB+w+wMB8PtRfwD8PtTrQ31O5/GgdXWo10OguoZAjdNVVOCvqCBQUQGNHwDmchGWkUH4oCxizz2XyOxsIseMITwzo00f1xtQfrBpD/8+VMIPsvrx48H925VkduWv5I0//BavO4rX+l/OyPHj+cfXJhJbtReevB6ObLTPwUz/hX2VmNGrtXYfzShV3eQkGTh6afBA51Daqs4Nr+eo+uILDj/0+1CHYfRUbjdiWfZ5krAwxO1GwsOxwsOR8HAkKgorOpqwhASsoUNxxcdjJcTjTkzEnZpqd/36EZaWhoS1/dkuwUq9Pm5bv4tFJZXcM7g/PxjUv13T2fTFp7z7lz9QG9uHZxMu4uqpo7jvsjG4dy+CV26yE+4N82Do+e2avtHztLZH80PsQ2QPNzFMAbOmOJJmzSL+sstCHYbRhPaewA6awIn118+zUXdMmctlX90lApZ18jGepO3Vtdy4Zid7aj38adQAZqWltGs6az5cwMInHyOQOoinI8/jOxeN5fvThyOrnoW3fmDf9zLrBUgZ2sGfwOjOWks0C53Xb6nqjs4OpiezYmKwzGNljR5GVfn3oRJ+tnU/LoF/5wxlSmJsu6a1dfliFj75GOFZo3lEz+S6Lw09mmTe/B4MuwCueRoiT6zJGqPna+3BFj9xXv/d2YEYhtG1dtXUcd3q7Xx34x6GR0fw7ukj2p1kCrZt5p1Hf09U2iAe5UzOHZPBry4fg+Q/D29+H4bNsPdkTJI5JbW2R1MsIv8BhojI/MYDVfXyzgnLMIzOsqGyhqf3F/LKwWLcIjwwIpMb01NafcBYc0oPHWTeg78mIj6BOdHnk53Whz9fPxH3+lfhjbtgyLlw3XPgjujQz2H0HK0lmkuAicC/aPo8jWEY3Zw3oKytrGZJaRXvF5axpKyKSEv4Sr8kfjy4P2kR7b8x0ltby+u/+zUBv59lw66iusTNX742kajD+fDGd+z7Y2a9AGGm1eRTWWuJZo6q3iAiT6rqJ63UPaU9sfcw9+842HpFo9to6w/45qpJ0LCGxzUHldeXWXaDv1hB/S7nEc5uESwEt9PvEiHMEtwihIsQbtnvIyyr4X2EJYQ7710iuMSedgDFE1BqAwEqfAEK6rwU1HnYWeOhxrkMelh0BD8fms71ackkh518sy4f/fMJivbvJeby7/DxmgC/u3oMA8Ir4elvQFx/uO5fEN45LQIbPUdra9rpTisAXxeRJ2n0nVPV4k6LrIcZExvFzRntu1LH6Hptvbum2Xoa3NT70edtNtw2U9/VP01T7XoB7BsiA/YzuvCp82RNVXxqD/MGFJ8q5YEAHq9SFwjgVTuJ1AUUrwYa+hvHJ0CkZRHjskiPCGNAVDhTk2KZlBDLlIQY+kW079Lnpmz64lPW/ed9hl1wBf+9Hi4Y3Y9rJ/SDf10JNSXwrfchOrnD5mf0XK0lmseBBcAQYCXHJhp1yg1galIcU5PMjWdG1wo0JC075YTVX0bdycoOH2ThE3+h//CRzKkeQVykhweuPg354D7Y/Tlc9Q9IG9fpcRg9Q4tXnanqo6o6GrvV4yGqOjioM0nGMELMEsFdfyiti+7HCQT8vP3oQ4gI1nk3sKagkp9fmk2fwhWw5DGYdBuMu7bT4zB6jtYubwZAVe8QkbNE5BYAEenjPOPFMIxTzKp35lOwdTNn3/xt/rS0kPGZCVyenQTzv2s/hGzGr0IdotHNtCnRiMgvgXs4el9NOPBcZwVlGEb3VHroIJ+/9BxDTp/Mf7wZHCqv42eXZmN9+gAUb4fLH4Vwc+Oycaw2JRrgK8DlQBWAqh4AzAkJwziFqCoLn3gUy2WR89Vv8fdPdzBzTH8mhe2CL/4ME2+075kxjEbaen2jR1VVRBRARMxPFsM4xaz7eCF71q3hglvv5O8ri/D6A9w7cwS8ejHE9oMZ/xvqEI1uqq17NC+LyN+BRBG5DfgAeLLzwjIMozupLivlk3/NITN7LEkTpvHKyn18fUoWgw68AwfXwoW/gajEUIdpdFNtfR7N70VkBlAOjAR+oaoLWxnNMIxe4tPnn8ZbW8cFt97JI5/vwhL49tRMeHYWpI2HMVeFOkSjGzuRW4PXAPWNFa3uhFgMw+iG9m1cx/pPPmTyldeiCX15afk6vjIhg/5bnoeyPfYFAFZbD44Yp6K2XnX2VWAZcC3wVWCpiFzT3pmKyEMisklE1ojIPBFJdMoHiUiNiOQ73eNB45wuImtFZJuIPCrODQMikiwiC0Vkq/Oa5JSLU2+bM5+JTUdjGEZz/D4fH875G3F9UjnjK9fxzBe78PgDfHtKKnz6EAw5D4aeF+owjW6urT9DfgpMUtWbVPVGYDLw85OY70JgrKqOA7Zw9LJpgO2qmuN03w4q/xv2Q9iGO91Mp/xe4ENVHQ586LwHuDio7mxnfMMwTkDegjcp3Lub826eTZ24eXbxbi7M7seQLXOgphguuC/UIRo9QFsTjaWqh4PeF53AuMdR1fdV1ee8XQJktlRfRNKAeFVdrPaD258FrnQGXwE84/Q/06j8WbUtwb6QIa29MRvGqaaiuJAvXnmBwRNyGZZ7BnOX7aGsxsudU5JhyV9h7NWQnhPqMI0eoK3JYoGIvCciN4vIzcDbwDsdFMM3gXeD3g8WkTwR+UREpjllGcC+oDr7nDKAfqpaAOC89g0aZ28z4xxDRGaLyAoRWXHkyJGT+zSG0Ut88uwcAn4f5998O76AMueznUwZnMy4glfBWw3TfhTqEI0eosWLAURkGPaG/L9F5CrgLOyGNRcDz7cy7gdA/yYG/VRV33Dq/BTwBU2rABioqkUicjrwuoiMoemW2ltrgLfN46jqE8ATALm5uW1t2Ncweq3da/PZvHgRX7rmayT2T2PBugIKymr5zZeHwXt/t5+Y2S871GEaPURrV539CfgfAFV9DXgNQERynWGXNTeiql7Q0oRF5CbgUmC6czgMVa0D6pz+lSKyHRiBvTcSfHgtEzjg9B8SkTRVLXAOjdUf4tsHDGhmHMMwmuHzevnwqcdJ7JfG5Cvsa36eX7qHtIRIzq39AKqOwNTvhThKoydp7dDZIFVd07hQVVcAg9o7UxGZid122uWqWh1UnioiLqd/CPaJ/B3OIbEKETnDudrsRuANZ7T5wE1O/02Nym90rj47AyirP8RmGEbzVr41j5ID+zj/lttxh4ezq7CKRVsLuT43A9eSxyB9Agya1vqEDMPR2h5NS89fjTqJ+f4F+56chc5VykucK8zOBn4tIj7AD3w76OFqdwD/dOb7LkfP6zyA3XLBt4A92Jdgg30O6RJgG1AN3HIS8RrGKaHs8CGWvPYSwyefyeAJuQC8uHwPLku4IXmD3XDmNU+3/fGkhkHriWa5iNymqsc0N+Ns1Fe2d6aqOqyZ8leBV5sZtgIY20R5ETC9iXIF7mxvjIZxqlFVFj75F8SyOPem2wCo8/l5ZcU+Lhjdl6S8e+3HAIy+PMSRGj1Na4nmbmCeiHydo4klF/sxAV/pzMAMw+haGz79iN1r8jj/m98mvk8qAAvWHaS4ysPtwytgwXKY+SC4TqRBEcNoJdGo6iHgTBE5j6N7E2+r6kedHplhGF2muqyUj5/9B+kjs8mZcUlD+fNL9zAwOZoJh+eBOwrGzwphlEZP1dZGNf8D/KeTYzEMI0Q+evrveGtruPD27yJOu2U7jlSybGcxP70gA1n6bxh7lWmh2WgX0xKeYZzitiz5jM2LF3HGVbNIyTh6R8Crq/ZhCVwXuQy8VXC6uZ7GaB+TaAzjFFZ+5DDvP/Fn+g8bwaQrjraTGwgo81btZ9qwPsSv+xf0GwuZuSGM1OjJTKIxjFNUwO/n7T//Hg0E+PL3fozLffRI+uIdRRwoq+VbQ0vh4Bo4/WZzSbPRbibRGMYpaslrczmweQMX3Honif2ObS3q1ZX7iIt0c2bJfAiLhnFfDVGURm9gEo1hnIJ2r8lnyasvMeac6Yw+69xjhlXW+Xh33UGuHhOPe8NrdivNkQmhCdToFUyiMYxTTOHe3cz/w29JGTCQ82+5/bjh764toMbr56bE1XYrzRNvDEGURm9iEo1hnEKqSkuY9+CvCIuI4Cv3/ILwqOjj6ry2aj+DUqIZtG8+JA+FzEkhiNToTUyiMYxThLeultcf+l+qy8q48se/IL5P3+Pq7CupZvGOIm7KtpDdn8P4681FAMZJM4nGME4BddXVvPbAfRzcvpVLvvcj+g8d3mS9N/LtJ2lc5VpkF4y/rqtCNHox02iRYfRyNRXlvPrbX3Jk9w4u+e6PGD7pS03WU1Vez9tP7sBEEra8aj8KIHFgF0dr9EZmj8YwerGKokJeuu9eCvfu4vL/+imjp57TbN0NBeVsPVzJrYMLoXiHfdjMMDqA2aMxjF5qR95yFjz2R3xeL1fd+ysGjh3XYv3X8/YT5hLOq/3Qvncm2zwOwOgYJtEYRi/j93lZ9OKzrHxrHqlZg7n07ntITs9seZyA8kb+AaYPSyRi8+sw+jKIiOuiiI3eziQaw+glVJXtK5fx6XNPUVKwn/EXfplzb/gW7vDwVsddsqOIwxV13NZ/H+wug3HmIgCj45hEYxg9nKpyYPNGPn/5OfauX0NyeiZX3Xtfw6OY22Je3n7iItzklLwPsf1gyLmdFq9x6jGJxjB6KE9tDZs+/5T899/myK4dRMbFM/2bd3Da9IuOaSCzNTUePwvWHeTq7BhcWxbCpNvAcnVi5MapxiQaw+ghVJWKoiPsWr2K7SuWsnttPn6vlz4DB3HBrXcyetq5hEdGnfB0F248RGWdjxvi88HvgXHXdkL0xqksJIlGRO4DbgOOOEX/o6rvOMN+AnwL8APfU9X3nPKZwCOAC/iHqj7glA8G5gLJwCrgBlX1iEgE8CxwOlAEXKequ7rkAxrGSfL7fJQeKqD4wD6K9+3l0I5tFGzdRGVJMQDxqf0Yf8HFjDjjLNJHjkZO4u79eav2kZ4QydCD70DKcEjL6aiPYRhAaPdo/qiqvw8uEJFsYBYwBkgHPhCREc7gx4AZwD5guYjMV9UNwIPOtOaKyOPYSepvzmuJqg4TkVlOPXOG0+hwqooGAgQCATTgJ+A/2vm9XnxeL36fF5+nDl9dHV5PHZ6aGjw11dRVV1NbWUFNRTk15WVUlhRTUVRIVWkJqDbMI6FffwaMGUfa8JFkZp9GnwFZJ5Vc6h2uqOXTrYX8aEo0kvc5nPcz0+SM0eG626GzK4C5qloH7BSRbcBkZ9g2Vd0BICJzgStEZCNwPvA1p84zwH3YieYKpx/g38BfRERUg769HSjvvbdY8urczpi00QZt+rMG1dGmyp1XRRsq2NNVe5Cq/V4V1QCqSiAQOGa67WG5XETFxRMVF09MUjJ9BmQRl9KHxH5pJKdnkpyR2WTjlx1hfv4B/AHl2ogldsFp17Q8gmG0QygTzV0iciOwAvgvVS0BMoAlQXX2OWUAexuVTwFSgFJV9TVRP6N+HFX1iUiZU7+wcSAiMhuYDTBwYPua3Ejqn87wyU037WF0lTb8Eg/6tX7sD3dxyqThrdRPT8SpK4hl2XVEsBr6LSyXhWW5EMvC+v/27j1Mqvq+4/j7OzN7485ycyMQFoMgKiACMVGIpmgQk5ioiZA2YpqINqZP8iRtYsrTPLUmbUNMbJNUDdZUMCnkghqqROstohFB7qDcL8LCykXusCzszrd/nDM64Cy7LDN7Znc+r+c5z5z5nct89jxn97vnMr8TjxOLJ4jF48SLEiQSRcQSRRSVlJAoLiFRXExJu3YUl6WGsqwcnTTHY0u2M7R3Z7pvmgO9R0F5ZSQ5pG3LWaExs+eAczJMmkJwxHEPwf+N9wA/Bv6azH8pnMxd5fhp5qeRaSc3uk8DpgGMGDGiWf+e9hs6nH5DhzdnUZFIrK4+yJvVB/npVUUw/w0Yf2/jC4k0Q84KjbuPbcp8ZvYQ8GT4tgrokza5N7AjHM/UvgfoYmaJ8Kgmff7UuqrMLAF0BvY240cRaZMeX7qdRMy4uu5PEEvAhTdEHUnaqEg61TSzirS3nwVWheNzgAlmVhLeTTYAWAi8Dgwws0ozKya4YWBOeL3lckJznwAAD/VJREFURSB1YnkS8Ie0dU0Kx28CXsjV9RmR1qauPsnjS7fz8YHdKFs9GwZcA+27RR1L2qiortFMNbNhBKeytgC3A7j7G2b2W+BNoA64093rAczsa8AzBLc3/9Ld3wjX9R1glpl9H1gKPBy2Pww8Gt5QsJegOIkI8PKGPew+VMtt5+6DzW/DUP16SO5EUmjc/YunmfYD4AcZ2ucCczO0b+K9O9PS248B+uaZSAazFm6lW/tihu9/Ako7w/njoo4kbZieRyNSYHYdPMZzq3cx8ZJy4mufDK7NJEqijiVtmAqNSIH53eIq6pPOpC4r4cRRnTaTnFOhESkgyaQzc+FWPnpeN3psfAy69oM+H446lrRxKjQiBeTlDXuo2lfDly4uhs3zYMgEdTkjOadCI1JAZi7YSnn7Yq6qeRZwGKru/yT3VGhECkRwE8BObhr+ARLLfwWVY6C8f9SxpACo0IgUiF8v2Epd0vnSOVtg/1a49NaoI0mBUKERKQA1x+uZMX8LYy/oScWGWVBWDoM+GXUsKRAqNCIF4PeLt7Hv6Am+OrITrJ0Lw76g785Ii1GhEWnj6pPOQy9v5pK+Xbhk7x8hWQfDJzW+oEiWqNCItHFPr3qbrXuPcvvoSmzJdOj7UehxfuMLimSJCo1IG+bu/GLeRiq7t+fqdutg7ybdBCAtToVGpA2bv+kdVlQd4CujK4kveADadYPBn446lhQYFRqRNsrdmfr0Wnp1KuGmvkdg3dMwajIUlUUdTQqMCo1IG/XUymqWbdvPt64ZSMnC+yFRCiNvizqWFCAVGpE2qLaunh8+vYZB53TkxvOLYMVvYNhf6imaEgkVGpE2aMarb7Ftbw1TrruA+OsPQf0J+MidUceSAqVCI9LG7DtynJ+9sJ6Pnd+D0X3L4PX/gkHXQbfzoo4mBUqFRqSNmfrMGg7X1vEP4y+AxY/Asf1w+dejjiUFTIVGpA159s2dzFy4jdvG9Gdg53p4+V7ofyX0GRV1NClgkRQaM/uNmS0Lhy1mtixs72dmNWnTHkxb5lIzW2lmG8zsp2bB05rMrNzMnjWz9eFr17Ddwvk2mNkKMxsexc8q0lJ2H6rlrtkrGFzRiW9dPRBe+QnU7Ier74k6mhS4SAqNu9/s7sPcfRgwG3gsbfLG1DR3vyOt/QFgMjAgHMaF7XcBz7v7AOD58D3AtWnzTg6XF2mT3J3vzF7B4do6/mPCMIoPb4fXHoShE6BiSNTxpMBFeuosPCr5PDCzkfkqgE7uPt/dHZgBfCacfD0wPRyffkr7DA+8BnQJ1yPS5kx/dQsvrNnFd68dxIBeHeHFHwQTrpoSbTARor9GMxrY6e7r09oqzWypmb1kZqPDtnOBqrR5qsI2gF7uXg0QvvZMW2ZbA8ucxMwmm9kiM1u0e/fus/uJRFrY3JXV3P3km4y9oCe3fKQfVK+A5bPgsjugS5+o44mQyNWKzew54JwMk6a4+x/C8YmcfDRTDfR193fM7FLgCTO7ELAM6/HGIjR1GXefBkwDGDFiRGPrFckbr6zfwzdmLWN43678bOJwYl4Hc/4WyrrCFd+MOp4IkMNC4+5jTzfdzBLADcClacvUArXh+GIz2wicT3A00jtt8d7AjnB8p5lVuHt1eGpsV9heBfRpYBmRVm/p1n1MfnQRld3b88tJIykrjsOLP4TqZfD5GVDWJeqIIkC0p87GAmvc/d1TYmbWw8zi4Xh/ggv5m8JTYofM7LLwus4tQOqoaA6QeorTpFPabwnvPrsMOJA6xSbS2v3v8h1MfOg1ytsXM+PLo+jcrgiqFsO8e2HIBBh8fdQRRd6VsyOaJpjA+28CGAP8s5nVAfXAHe6+N5z2N8AjQBnwx3AA+Dfgt2b2ZWAr8LmwfS4wHtgAHAW+lJsfQ6Tl1CedHz2zlgdf2siID3bl/r8aTs+OpXD8KDw+GTpWwPipUccUOUlkhcbdb83QNpvgdudM8y8CLsrQ/g7wFxnaHVDnTtJmrNt5iH98YhULNu9l4qi+3P3pCylOxMAdnvomvLMBbpkDpZ2jjipykiiPaESkCQ7UnODfn1vHjPlv0aEkwdQbh/D5kWmXH5+/G5bPhCu/C/0/Fl1QkQao0IjkqQ27DvPo/C3MXrKdI8fr+MKovvzdNQPp2r74vZleewBeuS94PPPHvhNVVJHTUqERyRPuzqY9R3hh9S6efXMnC7fspTge47ohFdw2uj+DP9Dp5AWWzYSn74JBn4TrfgKW6Y5+keip0IhEwN3ZfaiWjbuPsGr7AZZX7WfZtv1U7asBYNA5Hfn7Twzk5pF96N6h5OSFk8ngm/8v3wv9RsOND0MsHsFPIdI0KjQizeTu1CWdE/VJjp1IUltXz7ETSY7U1nG4to4jtXUcqDnB/qMn2H/0OLsP17LzYC3VB46x9Z0jHDle/+66zu1SxpDenbl9TH+uGtST3l3bZf7Q2kPw2O2w9im45IvBkUyiOPO8InlChSZLfr+4iv/+8+aoY7RqfoZ9MjQ0u2dYkTt4uEQw/t68Hq7MgaQ77u+91iedpAdDfTIoLPVJp67eOV6fbHJWM+jeoYRenUqo6FzKhyvLqezenn7d2zO4ohM9OpY0vpJ1z8Afvw37t8G1U2HUZJ0uk1ZBhSZLOpTEqehcGnWMNuDM/nA29HfWMsxj2HvjFrxPzWxAzCxsh1jMiJkRM4jHDDMjbkYibiRiRjwWozgRoyhmFCVilCZilBbFKS2K0644ToeSBO1KEnQpK6JLuyI6lhYRjzWzKOzdBM9MgbVzodsAmDQH+l3RvHWJRECFJkvGXVTBuIvUObRkiTtseRkW/CIoMIkyGHs3XPZVnSqTVkeFRiRfJOuh6vWgsKx5KvgCZlk5XP6N4DRZJ/0jI62TCo1IFOqOw/63YM862LEUqhbBjiVw7ADEEvDBy4MCc/FNUFQWdVqRs6JCI9IcySQkT0BdLdSfgLqaYPxEDRw/DLWH4fghOLoXavYFr4ffhkNvw8HtwQV9D+86szj0HAyDPxN8s/9DY9WNjLQpKjTZsuRRmP/zqFPkrzO9paxpK23C+j1t+inj775yynsHT4ZDfXBKy5PBa7IuGLw+04c1rKgddOgFnT4A514KF38Oun0oGHpeAMXtz2x9Iq2ICk22tCuHHgOjTpHncnAr7km3nTV0C5q9N/1945leCY4yLBYMsXjwPhYPTmulhkQxxMMhURqc4kqUBkWjpCMUdwgeQFbWFYp0R6IULhWabBl0XTCIiMhJonzwmYiIFAAVGhERySkVGhERySkVGhERySkVGhERySkVGhERySkVGhERySkVGhERySnL9JCoQmZmu4G3mjh7d2BPDuNkS2vIqYzZ0RoyQuvIqYxn5oPu3iPTBBWas2Bmi9x9RNQ5GtMacipjdrSGjNA6cipj9ujUmYiI5JQKjYiI5JQKzdmZFnWAJmoNOZUxO1pDRmgdOZUxS3SNRkREckpHNCIiklMqNCIiklMqNM1gZp8zszfMLGlmI9La+5lZjZktC4cH8y1jOO27ZrbBzNaa2SeiyngqM/snM9uetv3GR50pxczGhdtrg5ndFXWeTMxsi5mtDLfdoqjzpJjZL81sl5mtSmsrN7NnzWx9+No1DzPm1f5oZn3M7EUzWx3+bn89bM+rbZmJCk3zrAJuAOZlmLbR3YeFwx0tnCtdxoxmNhiYAFwIjAPuN7N4y8dr0H1p229u1GEAwu3zn8C1wGBgYrgd89FV4bbLp+9WPEKwr6W7C3je3QcAz4fvo/QI788I+bU/1gHfcvcLgMuAO8P9MN+25fuo0DSDu69297VR5zid02S8Hpjl7rXuvhnYAIxq2XStzihgg7tvcvfjwCyC7ShN4O7zgL2nNF8PTA/HpwOfadFQp2ggY15x92p3XxKOHwJWA+eSZ9syExWa7Ks0s6Vm9pKZjY46TAbnAtvS3leFbfnia2a2IjyVkS+nAPJ9m6U48H9mttjMJkcdphG93L0agj+gQM+I8zQkH/dHzKwfcAmwgFawLVVoGmBmz5nZqgzD6f6TrQb6uvslwDeB/zGzTnmW0TK0tdg97o1kfgA4DxhGsC1/3FK5GhHpNjsDl7v7cIJTfHea2ZioA7Vyebk/mlkHYDbwDXc/GHWepkhEHSBfufvYZixTC9SG44vNbCNwPpCTC7PNyUjw33iftPe9gR3ZSdS4pmY2s4eAJ3Mcp6ki3WZN5e47wtddZvY4wSm/TNcR88FOM6tw92ozqwB2RR3oVO6+MzWeL/ujmRURFJlfu/tjYXPeb0sd0WSRmfVIXVg3s/7AAGBTtKneZw4wwcxKzKySIOPCiDMBEP6SpHyW4IaGfPA6MMDMKs2smOBmijkRZzqJmbU3s46pceAa8mf7ZTIHmBSOTwL+EGGWjPJtfzQzAx4GVrv7T9Im5f22xN01nOFAsNNVERy97ASeCdtvBN4AlgNLgE/lW8Zw2hRgI7AWuDbq7ZmW61FgJbCC4JenIupMadnGA+vC7TYl6jwZ8vUP97vl4T6YNxmBmQSnnk6E++SXgW4Ed0itD1/L8zBjXu2PwBUEp2xXAMvCYXy+bctMg7qgERGRnNKpMxERySkVGhERySkVGhERySkVGhERySkVGhERySkVGpGzZGaHs7SeR8zspiysp196L8Snme9KM4v8S4jS9qnQiIhITqnQiGSJBX4U9t220sxuDttjZnZ/+AyRJ81sbmNHLmb2PTN7PVzXtPBb4ZjZn8zsPjObFz6XZKSZPRY+i+T7aatImNn0sEPI35tZu3D5cWa2xsxeIXiMROrzRpnZq2GHsK+a2cDsbyEpVCo0ItlzA0EHjEOBscCPwm5MbgD6ARcDXwE+0oR1/dzdR7r7RUAZ8Mm0acfdfQzwIEF3I3cCFwG3mlm3cJ6BwDR3HwIcBL5qZqXAQ8CngNHAOWnrXAOM8aBD2O8B/3KGP7tIg1RoRLLnCmCmu9d70CHjS8DIsP137p5097eBF5uwrqvMbIGZrQQ+TvCgupRUP2srgTc8eE5JLUG/eqnOP7e5+5/D8V+FGQYBm919vQddgvwqbZ2dgd+F13buO+XzRM6KCo1I9mR6nMDp2jPPHBx53A/c5O4XExyFlKbNUhu+JtPGU+9TPbKf2reUN9Cecg/wYngE9alTPk/krKjQiGTPPOBmM4ubWQ9gDEHP2K8AN4bXanoBVzayntQf+T3hs0eacydaXzNLnaKbGGZYQ/BgvvPS2lM6A9vD8Vub8XkiDVKhEcmexwl61l0OvAB8OzxVNpugR+BVwC8Inop4oKGVuPt+gqOYlcATBI8pOFOrgUlmtgIoBx5w92PAZOCp8GaAt9Lmnwr8q5n9GYg34/NEGqTem0VagJl1cPfD4cX6hQRPw3w76lwiLUFP2BRpGU+aWRegGLhHRUYKiY5oREQkp3SNRkREckqFRkREckqFRkREckqFRkREckqFRkREcur/AbU7pSla8AwSAAAAAElFTkSuQmCC\n",
>>>>>>> f5caf9a373bd32a4fd02020a7d75a03424f9a5f0
      "text/plain": [
       "<Figure size 432x288 with 1 Axes>"
      ]
     },
     "metadata": {
      "needs_background": "light"
     },
     "output_type": "display_data"
    }
   ],
   "source": [
    "#Plotting ridge coefficents as a function of the regularization\n",
    "import matplotlib.pyplot as plt\n",
    "alphas =  10**np.linspace(10,-6,100)*0.5\n",
    "coefs = []\n",
    "for i in range(len(alphas)):\n",
    "        reg = linear_model.Ridge(alpha = alphas[i])\n",
    "        reg.fit(X_train_scaled,y_train)\n",
    "        coefs.append(reg.coef_)\n",
    "        \n",
    "# Plot ridge coefficients asa function of lambda\n",
    "fig, ax = plt.subplots(1, 1)\n",
    "ax.plot(np.log(alphas), coefs)\n",
    "#ax.set_xscale('log')\n",
    "plt.xlabel('log lambda')\n",
    "plt.ylabel('Coefficients')\n",
    "plt.title('Ridge coefficients as a function of regularization')"
   ]
  },
  {
   "cell_type": "code",
<<<<<<< HEAD
   "execution_count": 14,
=======
   "execution_count": 52,
>>>>>>> f5caf9a373bd32a4fd02020a7d75a03424f9a5f0
   "metadata": {},
   "outputs": [
    {
     "data": {
      "text/plain": [
       "Text(0.5, 1.0, 'Lasso coefficients as a function of regularization')"
      ]
     },
<<<<<<< HEAD
     "execution_count": 14,
=======
     "execution_count": 52,
>>>>>>> f5caf9a373bd32a4fd02020a7d75a03424f9a5f0
     "metadata": {},
     "output_type": "execute_result"
    },
    {
     "data": {
<<<<<<< HEAD
      "image/png": "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\n",
=======
      "image/png": "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\n",
>>>>>>> f5caf9a373bd32a4fd02020a7d75a03424f9a5f0
      "text/plain": [
       "<Figure size 432x288 with 1 Axes>"
      ]
     },
     "metadata": {
      "needs_background": "light"
     },
     "output_type": "display_data"
    }
   ],
   "source": [
    "#Plotting lasso coefficents as a function of the regularization\n",
    "import matplotlib.pyplot as plt\n",
    "alphas =  10**np.linspace(10,-6,100)*0.5\n",
    "coefs = []\n",
    "for i in range(len(alphas)):\n",
    "        reg = linear_model.Lasso(alpha = alphas[i])\n",
    "        reg.fit(X_train_scaled,y_train)\n",
    "        coefs.append(reg.coef_)\n",
    "        \n",
    "# Plot ridge coefficients asa function of lambda\n",
    "fig, ax = plt.subplots(1, 1)\n",
    "ax.plot(np.log(alphas), coefs)\n",
    "#ax.set_xscale('log')\n",
    "plt.xlabel('log lambda')\n",
    "plt.ylabel('Coefficients')\n",
    "plt.title('Lasso coefficients as a function of regularization')"
<<<<<<< HEAD
=======
   ]
  },
  {
   "cell_type": "markdown",
   "metadata": {},
   "source": [
    "Overall, when the regularisation parameter is increased, the coefficients start converging to zero. From the above two plots we can see that ridge regularisation tends to get coefficients to zero rather smoothly while the lasso shows more ubruptness."
>>>>>>> f5caf9a373bd32a4fd02020a7d75a03424f9a5f0
   ]
  },
  {
   "cell_type": "markdown",
   "metadata": {},
   "source": [
    "## 3"
   ]
  },
  {
   "cell_type": "code",
<<<<<<< HEAD
   "execution_count": 15,
=======
   "execution_count": 56,
>>>>>>> f5caf9a373bd32a4fd02020a7d75a03424f9a5f0
   "metadata": {},
   "outputs": [
    {
     "name": "stdout",
     "output_type": "stream",
     "text": [
      "Prediction error for linear regression is :  50682.397574551534\n",
      "Prediction error for linear regression is :  50682.39724675481\n",
      "Prediction error for linear regression is :  50635.1150325643\n"
     ]
    }
   ],
   "source": [
    "lin_reg = linear_model.LinearRegression()\n",
    "lin_reg.fit(X_train_scaled, y_train)\n",
    "prediction_lin_reg = lin_reg.predict(X_test_scaled)\n",
    "Error_lin_reg = mean_absolute_error(y_test,prediction_lin_reg)\n",
    "print(\"Prediction error for linear regression is : \",Error_lin_reg)\n",
    "\n",
    "lasso = linear_model.Lasso(alpha = min_lambda_lasso)\n",
    "lasso.fit(X_train_scaled, y_train)\n",
    "prediction_lasso = lasso.predict(X_test_scaled)\n",
    "Error_lasso = mean_absolute_error(y_test,prediction_lasso)\n",
    "print(\"Prediction error for linear regression is : \",Error_lasso)\n",
    "\n",
    "ridge = linear_model.Ridge(alpha = min_lambda_ridge)\n",
    "ridge.fit(X_train_scaled, y_train)\n",
    "prediction_ridge = ridge.predict(X_test_scaled)\n",
    "Error_ridge = mean_absolute_error(y_test,prediction_ridge)\n",
    "print(\"Prediction error for linear regression is : \",Error_ridge)"
   ]
  },
  {
   "cell_type": "markdown",
   "metadata": {},
   "source": [
    "## 4"
   ]
  },
  {
   "cell_type": "code",
<<<<<<< HEAD
   "execution_count": 16,
=======
   "execution_count": 83,
>>>>>>> f5caf9a373bd32a4fd02020a7d75a03424f9a5f0
   "metadata": {},
   "outputs": [
    {
     "data": {
      "text/plain": [
       "LassoCV(alphas=None, copy_X=True, cv=10, eps=0.001, fit_intercept=True,\n",
<<<<<<< HEAD
       "    max_iter=10000, n_alphas=100, n_jobs=None, normalize=False,\n",
       "    positive=False, precompute='auto', random_state=None,\n",
       "    selection='cyclic', tol=0.0001, verbose=False)"
      ]
     },
     "execution_count": 16,
=======
       "        max_iter=10000, n_alphas=100, n_jobs=None, normalize=False,\n",
       "        positive=False, precompute='auto', random_state=None,\n",
       "        selection='cyclic', tol=0.0001, verbose=False)"
      ]
     },
     "execution_count": 83,
>>>>>>> f5caf9a373bd32a4fd02020a7d75a03424f9a5f0
     "metadata": {},
     "output_type": "execute_result"
    }
   ],
   "source": [
    "#Fitting LassoCV\n",
    "lasso_cv = LassoCV(alphas=None, cv=10, max_iter=10000)\n",
    "lasso_cv.fit(X_train_scaled, y_train)"
   ]
  },
  {
   "cell_type": "code",
<<<<<<< HEAD
   "execution_count": 17,
=======
   "execution_count": 84,
>>>>>>> f5caf9a373bd32a4fd02020a7d75a03424f9a5f0
   "metadata": {},
   "outputs": [
    {
     "name": "stdout",
     "output_type": "stream",
     "text": [
      "The best lambda chosen by LassoCV is :  161.80167643776653\n"
     ]
    }
   ],
   "source": [
    "#Print the alpha parameter obtained above\n",
    "lambda_best = lasso_cv.alpha_\n",
    "print(\"The best lambda chosen by LassoCV is : \", lambda_best)"
   ]
  },
  {
   "cell_type": "code",
<<<<<<< HEAD
   "execution_count": 18,
=======
   "execution_count": 88,
>>>>>>> f5caf9a373bd32a4fd02020a7d75a03424f9a5f0
   "metadata": {},
   "outputs": [
    {
     "name": "stdout",
     "output_type": "stream",
     "text": [
      "[-83729.40788737 -88966.60778197  13793.24655891  -5441.52359581\n",
      "  24891.29887821 -48359.51663192  33593.70067617  79916.03828368\n",
      "  14815.92067716 -12517.52849661   2360.88791625]\n",
      "The MAE for LassoCV is :  50681.95000148011\n"
     ]
    }
   ],
   "source": [
    "#Fit lasso using the above alpha and report MAE on Test.\n",
    "lasso_train = Lasso(alpha=lambda_best)\n",
    "lasso_train.fit(X_train_scaled, y_train)\n",
    "lasso_pred_test = lasso_train.predict(X_test_scaled)\n",
    "print(lasso_train.coef_)\n",
    "print(\"The MAE for LassoCV is : \" , mean_absolute_error(y_test,lasso_pred_test))"
   ]
  },
  {
   "cell_type": "markdown",
   "metadata": {},
   "source": [
    "## 5\n"
   ]
  },
  {
   "cell_type": "markdown",
   "metadata": {},
   "source": [
    "## Answer\n"
   ]
  },
  {
   "cell_type": "markdown",
   "metadata": {},
   "source": [
    "# Question 5 (5pts)\n",
    "\n",
    "How do you think the performance of your model varies in the train and test set as you increase(decrease) the number of examples in the training dataset? Explain why does it change in a particular way."
   ]
  },
  {
   "cell_type": "markdown",
   "metadata": {},
   "source": [
    "## Answer\n"
   ]
  }
 ],
 "metadata": {
  "anaconda-cloud": {},
  "kernelspec": {
   "display_name": "Python 3",
   "language": "python",
   "name": "python3"
  },
  "language_info": {
   "codemirror_mode": {
    "name": "ipython",
    "version": 3
   },
   "file_extension": ".py",
   "mimetype": "text/x-python",
   "name": "python",
   "nbconvert_exporter": "python",
   "pygments_lexer": "ipython3",
   "version": "3.7.3"
  }
 },
 "nbformat": 4,
 "nbformat_minor": 1
}
